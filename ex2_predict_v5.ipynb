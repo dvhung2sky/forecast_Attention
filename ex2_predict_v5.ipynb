{
  "nbformat": 4,
  "nbformat_minor": 0,
  "metadata": {
    "colab": {
      "name": "ex2_predict_v5",
      "provenance": [],
      "collapsed_sections": []
    },
    "kernelspec": {
      "name": "python3",
      "display_name": "Python 3"
    },
    "accelerator": "GPU"
  },
  "cells": [
    {
      "cell_type": "code",
      "metadata": {
        "id": "-thNrOROYO2B",
        "colab_type": "code",
        "colab": {
          "base_uri": "https://localhost:8080/",
          "height": 237
        },
        "outputId": "43f795e4-f306-48bd-c4f7-1ac66a393b57"
      },
      "source": [
        "!pip install dtaidistance"
      ],
      "execution_count": null,
      "outputs": [
        {
          "output_type": "stream",
          "text": [
            "Collecting dtaidistance\n",
            "\u001b[?25l  Downloading https://files.pythonhosted.org/packages/dd/92/1c74a9b7c2290c615b0e3204ac2903f91862ca6e6862fac51180189a16b3/dtaidistance-2.0.2.tar.gz (1.2MB)\n",
            "\u001b[K     |████████████████████████████████| 1.2MB 2.6MB/s \n",
            "\u001b[?25hRequirement already satisfied: cython in /usr/local/lib/python3.6/dist-packages (from dtaidistance) (0.29.21)\n",
            "Building wheels for collected packages: dtaidistance\n",
            "  Building wheel for dtaidistance (setup.py) ... \u001b[?25lerror\n",
            "\u001b[31m  ERROR: Failed building wheel for dtaidistance\u001b[0m\n",
            "\u001b[?25h  Running setup.py clean for dtaidistance\n",
            "Failed to build dtaidistance\n",
            "Installing collected packages: dtaidistance\n",
            "    Running setup.py install for dtaidistance ... \u001b[?25l\u001b[?25herror\n",
            "\u001b[31mERROR: Command errored out with exit status 1: /usr/bin/python3 -u -c 'import sys, setuptools, tokenize; sys.argv[0] = '\"'\"'/tmp/pip-install-mhm6ax4g/dtaidistance/setup.py'\"'\"'; __file__='\"'\"'/tmp/pip-install-mhm6ax4g/dtaidistance/setup.py'\"'\"';f=getattr(tokenize, '\"'\"'open'\"'\"', open)(__file__);code=f.read().replace('\"'\"'\\r\\n'\"'\"', '\"'\"'\\n'\"'\"');f.close();exec(compile(code, __file__, '\"'\"'exec'\"'\"'))' install --record /tmp/pip-record-fxpykzki/install-record.txt --single-version-externally-managed --compile Check the logs for full command output.\u001b[0m\n"
          ],
          "name": "stdout"
        }
      ]
    },
    {
      "cell_type": "code",
      "metadata": {
        "id": "wXud3qKm8GG0",
        "colab_type": "code",
        "colab": {
          "base_uri": "https://localhost:8080/",
          "height": 33
        },
        "outputId": "19cd760a-b0b3-4888-cb3f-eb302398cec2"
      },
      "source": [
        "%cd drive/'My Drive'/PRJ-1640"
      ],
      "execution_count": null,
      "outputs": [
        {
          "output_type": "stream",
          "text": [
            "/content/drive/My Drive/PRJ-1640\n"
          ],
          "name": "stdout"
        }
      ]
    },
    {
      "cell_type": "code",
      "metadata": {
        "id": "AoeirhrK-vj0",
        "colab_type": "code",
        "colab": {}
      },
      "source": [
        "# from dtaidistance import dtw\n",
        "from fastdtw import fastdtw\n",
        "from scipy.spatial.distance import euclidean\n",
        "import array\n",
        "import math\n",
        "import os\n",
        "import numpy as np\n",
        "import pandas as pd\n",
        "import matplotlib.pyplot as plt\n",
        "%matplotlib inline\n",
        "import json\n",
        "import enum\n",
        "import sklearn.preprocessing\n",
        "import argparse\n",
        "import tensorflow.compat.v1 as tf\n",
        "import pickle\n",
        "from sklearn.model_selection import train_test_split"
      ],
      "execution_count": null,
      "outputs": []
    },
    {
      "cell_type": "code",
      "metadata": {
        "id": "Haw9GSv3lMcQ",
        "colab_type": "code",
        "colab": {}
      },
      "source": [
        "list_all = ['40', '81', '110-1', '180-1', '220', '250', '300', '340-1', '420-1']\n",
        "list_train = ['40', '81', '180-1', '250', '300', '420-1']\n",
        "list_test = ['110-1', '220', '340-1']\n",
        "list_name = ['40', '81', '110', '180', '220', '250', '300', '340', '420']"
      ],
      "execution_count": null,
      "outputs": []
    },
    {
      "cell_type": "code",
      "metadata": {
        "id": "6q29kZddU3Xm",
        "colab_type": "code",
        "colab": {
          "base_uri": "https://localhost:8080/",
          "height": 33
        },
        "outputId": "9c12d449-c16e-4db9-a89f-e5f3e1d7958b"
      },
      "source": [
        "# list_sensor = list(range(18,1,-5))\n",
        "list_sensor = []\n",
        "\n",
        "col_mappings = {\n",
        "  'outputs': ['top'],\n",
        "  'inputs': ['top'],\n",
        "  }\n",
        "\n",
        "col_mappings['inputs'] += [str(i) for i in list_sensor ]\n",
        "col_mappings['inputs'] += ['motion']\n",
        "print(col_mappings['inputs'])\n",
        "\n",
        "params = {}\n",
        "params['total_time_steps']  = 800\n",
        "params['num_encoder_steps'] = 750"
      ],
      "execution_count": null,
      "outputs": [
        {
          "output_type": "stream",
          "text": [
            "['top', 'motion']\n"
          ],
          "name": "stdout"
        }
      ]
    },
    {
      "cell_type": "code",
      "metadata": {
        "id": "UrJ9FBbyeXuM",
        "colab_type": "code",
        "colab": {}
      },
      "source": [
        "def df_to_data(df, col_mappings, params):\n",
        "    data_map = {}\n",
        "    lags = params['total_time_steps']\n",
        "    for key in col_mappings:\n",
        "      cols = col_mappings[key]\n",
        "      data_map[key] =  np.stack([df[cols].copy().values[i: len(df) - (lags - 1) + i, :] for i in range(lags)], axis=1)    \n",
        "\n",
        "    data_map['outputs'] = data_map['outputs'][:, params['num_encoder_steps']:, :]\n",
        "    \n",
        "    return data_map"
      ],
      "execution_count": null,
      "outputs": []
    },
    {
      "cell_type": "code",
      "metadata": {
        "id": "BVC6CmWloOwV",
        "colab_type": "code",
        "colab": {}
      },
      "source": [
        "# Scaler\n",
        "id = list_all[-1]\n",
        "df = pd.read_csv(f'CASE{id}_Acc.txt', skiprows=1, header=None, sep='\\t')\n",
        "df_m = pd.DataFrame()\n",
        "df_m['top'] = df[1].values[7000:20000]\n",
        "df_m['motion'] = df[19].values[7000:20000]\n",
        "for i in list_sensor:\n",
        "  df_m[f'{i}'] = df[i].values[7000:20000]\n",
        "\n",
        "real_scalers = sklearn.preprocessing.StandardScaler().fit(df_m[col_mappings['inputs']].values)\n",
        "output_scalers = sklearn.preprocessing.StandardScaler().fit(df_m[col_mappings['outputs']].values)\n",
        "df_scale = df_m\n",
        "df_scale[col_mappings['inputs']] = real_scalers.transform(df_m[col_mappings['inputs']].values)\n",
        "data_all = df_to_data(df_scale, col_mappings, params)"
      ],
      "execution_count": null,
      "outputs": []
    },
    {
      "cell_type": "code",
      "metadata": {
        "id": "epg8EKhMeXxl",
        "colab_type": "code",
        "colab": {}
      },
      "source": [
        "for i in range(len(list_train)-1):\n",
        "  df = pd.read_csv(f'CASE{list_train[i]}_Acc.txt', skiprows=1, header=None, sep='\\t')\n",
        "  df_m = pd.DataFrame()\n",
        "  df_m['top'] = df[1].values[7000:20000]\n",
        "  df_m['motion'] = df[19].values[7000:20000]\n",
        "  for i in list_sensor:\n",
        "    df_m[f'{i}'] = df[i].values[7000:20000]\n",
        "\n",
        "  df_scale = df_m\n",
        "  df_scale[col_mappings['inputs']] = real_scalers.transform(df_m[col_mappings['inputs']].values)\n",
        "  data_map = df_to_data(df_scale, col_mappings, params)\n",
        "  data_all['inputs'] = np.concatenate((data_all['inputs'], data_map['inputs']), axis = 0)\n",
        "  data_all['outputs'] = np.concatenate((data_all['outputs'], data_map['outputs']), axis = 0)"
      ],
      "execution_count": null,
      "outputs": []
    },
    {
      "cell_type": "code",
      "metadata": {
        "id": "R06WQg9OeX1t",
        "colab_type": "code",
        "colab": {
          "base_uri": "https://localhost:8080/",
          "height": 50
        },
        "outputId": "dc6d02dc-b42c-4f46-8c22-4fe01fc4d952"
      },
      "source": [
        "type(data_all)\n",
        "print(data_all['inputs'].shape)\n",
        "print(data_all['outputs'].shape)"
      ],
      "execution_count": null,
      "outputs": [
        {
          "output_type": "stream",
          "text": [
            "(73206, 800, 2)\n",
            "(73206, 50, 1)\n"
          ],
          "name": "stdout"
        }
      ]
    },
    {
      "cell_type": "code",
      "metadata": {
        "id": "T5nxtJrBeX5B",
        "colab_type": "code",
        "colab": {}
      },
      "source": [
        ""
      ],
      "execution_count": null,
      "outputs": []
    },
    {
      "cell_type": "markdown",
      "metadata": {
        "id": "krSZA1Uiy4WM",
        "colab_type": "text"
      },
      "source": [
        "## Model"
      ]
    },
    {
      "cell_type": "code",
      "metadata": {
        "id": "hXoQHyi6y5GH",
        "colab_type": "code",
        "colab": {}
      },
      "source": [
        "N_input_size = len(col_mappings['inputs'])\n",
        "\n",
        "params.update( {\n",
        " 'dropout_rate': 0.1,\n",
        " 'early_stopping_patience': 5,\n",
        " 'hidden_layer_size': 160,\n",
        " 'input_obs_loc': [0],\n",
        " 'input_size': N_input_size,\n",
        " 'known_regular_inputs': [N_input_size-1],\n",
        " 'learning_rate': 0.001,\n",
        " 'max_gradient_norm': 0.01,\n",
        " 'minibatch_size': 256,\n",
        " 'model_folder': 'saved_models/fixed',\n",
        " 'multiprocessing_workers': 5,\n",
        " 'num_epochs': 100,\n",
        " 'num_heads': 4,\n",
        " 'output_size': 1,\n",
        " 'stack_size': 1,\n",
        "})\n"
      ],
      "execution_count": null,
      "outputs": []
    },
    {
      "cell_type": "code",
      "metadata": {
        "id": "jJ4wWyBzy5bX",
        "colab_type": "code",
        "colab": {}
      },
      "source": [
        "name, output_folder, use_tensorflow_with_gpu = 'ex2', 'ex2', 'yes'\n",
        "default_keras_session = tf.keras.backend.get_session()\n",
        "os.environ['CUDA_DEVICE_ORDER'] = 'PCI_BUS_ID'\n",
        "os.environ['CUDA_VISIBLE_DEVICES'] = str(0)\n",
        "tf_config = tf.compat.v1.ConfigProto(log_device_placement=False)\n",
        "tf_config.gpu_options.allow_growth = True\n",
        "tf.global_variables_initializer()\n",
        "\n",
        "num_encoder_steps = int(params['num_encoder_steps'])\n",
        "output_size = int(params['output_size'])\n",
        "quantiles = [0.1, 0.5, 0.9]\n"
      ],
      "execution_count": null,
      "outputs": []
    },
    {
      "cell_type": "code",
      "metadata": {
        "id": "NHnXw3FIy5nC",
        "colab_type": "code",
        "colab": {
          "base_uri": "https://localhost:8080/",
          "height": 33
        },
        "outputId": "ff8ab1a8-a39f-44b8-dff2-fcbe91e07968"
      },
      "source": [
        "all_inputs = tf.keras.layers.Input(shape=(params['total_time_steps'], params['input_size'],))\n",
        "all_inputs"
      ],
      "execution_count": null,
      "outputs": [
        {
          "output_type": "execute_result",
          "data": {
            "text/plain": [
              "<tf.Tensor 'input_1:0' shape=(None, 800, 2) dtype=float32>"
            ]
          },
          "metadata": {
            "tags": []
          },
          "execution_count": 11
        }
      ]
    },
    {
      "cell_type": "code",
      "metadata": {
        "id": "kBuQ5txQy5ia",
        "colab_type": "code",
        "colab": {}
      },
      "source": [
        "def get_active_locations(x):\n",
        "  \"\"\"Formats sample weights for Keras training.\"\"\"\n",
        "  return (np.sum(x, axis=-1) > 0.0) * 1.0\n",
        "\n",
        "def convert_real_to_embedding(x):\n",
        "  return tf.keras.layers.TimeDistributed(tf.keras.layers.Dense(params['hidden_layer_size']))(x)\n",
        "\n",
        "def gated_residual_network(x, hidden_layer_size, output_size=None, dropout_rate=None,\n",
        "                           use_time_distributed=True, additional_context=None, return_gate=False):\n",
        "\n",
        "  # Setup skip connection\n",
        "  if output_size is None:\n",
        "    output_size = hidden_layer_size\n",
        "    skip = x\n",
        "  else:\n",
        "    linear = tf.keras.layers.Dense(output_size)\n",
        "    if use_time_distributed:\n",
        "      linear = tf.keras.layers.TimeDistributed(linear)\n",
        "    skip = linear(x)\n",
        "\n",
        "  # Apply feedforward network\n",
        "  hidden = linear_layer( hidden_layer_size, activation=None, use_time_distributed=use_time_distributed)(x) \n",
        "  hidden = tf.keras.layers.Activation('elu')(hidden)\n",
        "  hidden = linear_layer(hidden_layer_size, activation=None, use_time_distributed=use_time_distributed)(hidden)\n",
        "  gating_layer, gate = apply_gating_layer( hidden,output_size,dropout_rate=dropout_rate, \n",
        "                                          use_time_distributed=use_time_distributed, activation=None)\n",
        "\n",
        "  if return_gate:\n",
        "    return add_and_norm([skip, gating_layer]), gate\n",
        "  else:\n",
        "    return add_and_norm([skip, gating_layer])\n",
        "\n",
        "def linear_layer(size, activation=None, use_time_distributed=False, use_bias=True):\n",
        "\n",
        "  linear = tf.keras.layers.Dense(size, activation=activation, use_bias=use_bias)\n",
        "  if use_time_distributed:\n",
        "    linear = tf.keras.layers.TimeDistributed(linear)\n",
        "  return linear\n",
        "\n",
        "def apply_gating_layer(x, hidden_layer_size, dropout_rate=None, use_time_distributed=True, activation=None):\n",
        "\n",
        "  if dropout_rate is not None:\n",
        "    x = tf.keras.layers.Dropout(dropout_rate)(x)\n",
        "\n",
        "  if use_time_distributed:\n",
        "    activation_layer = tf.keras.layers.TimeDistributed(\n",
        "        tf.keras.layers.Dense(hidden_layer_size, activation=activation))(x)\n",
        "    \n",
        "    gated_layer = tf.keras.layers.TimeDistributed(\n",
        "        tf.keras.layers.Dense(hidden_layer_size, activation='sigmoid'))(x)\n",
        "  \n",
        "  else:\n",
        "    activation_layer = tf.keras.layers.Dense(\n",
        "        hidden_layer_size, activation=activation)(x)\n",
        "\n",
        "    gated_layer = tf.keras.layers.Dense(\n",
        "        hidden_layer_size, activation='sigmoid')(x)\n",
        "\n",
        "  return tf.keras.layers.Multiply()([activation_layer,gated_layer]), gated_layer\n",
        "\n",
        "def add_and_norm(x_list):\n",
        "  tmp = tf.keras.layers.Add()(x_list)\n",
        "  tmp = tf.keras.layers.LayerNormalization()(tmp)\n",
        "  return tmp\n",
        "\n",
        "def get_decoder_mask(self_attn_inputs):\n",
        "  len_s = tf.shape(self_attn_inputs)[1]\n",
        "  bs = tf.shape(self_attn_inputs)[:1]  \n",
        "  mask = tf.keras.backend.cumsum(tf.eye(len_s, batch_shape=bs), 1)\n",
        "  return mask\n",
        "\n",
        "def tensorflow_quantile_loss(y, y_pred, quantile):\n",
        "  prediction_underflow = y - y_pred\n",
        "  q_loss = quantile * tf.maximum(prediction_underflow, 0.) + (\n",
        "      1. - quantile) * tf.maximum(-prediction_underflow, 0.)\n",
        "\n",
        "  return tf.reduce_sum(q_loss, axis=-1)\n",
        "\n",
        "class QuantileLossCalculator(object):\n",
        "  def __init__(self, quantiles):\n",
        "    self.quantiles = quantiles\n",
        "\n",
        "  def quantile_loss(self, a, b):\n",
        "    quantiles_used = set(self.quantiles)\n",
        "\n",
        "    loss = 0.\n",
        "    for i, quantile in enumerate(valid_quantiles):\n",
        "      if quantile in quantiles_used:\n",
        "        loss += tensorflow_quantile_loss(\n",
        "            a[Ellipsis, output_size * i:output_size * (i + 1)],\n",
        "            b[Ellipsis, output_size * i:output_size * (i + 1)], quantile)\n",
        "    return loss  "
      ],
      "execution_count": null,
      "outputs": []
    },
    {
      "cell_type": "code",
      "metadata": {
        "id": "3Fge0epFy5fk",
        "colab_type": "code",
        "colab": {}
      },
      "source": [
        "max_gradient_norm = float(params['max_gradient_norm'])\n",
        "learning_rate = float(params['learning_rate'])\n",
        "adam = tf.keras.optimizers.Adam(lr=learning_rate, clipnorm=max_gradient_norm)\n",
        "valid_quantiles = quantiles\n",
        "quantile_loss = QuantileLossCalculator(valid_quantiles).quantile_loss\n",
        "minibatch_size = int(params['minibatch_size'])\n",
        "n_multiprocessing_workers = int(params['multiprocessing_workers'])"
      ],
      "execution_count": null,
      "outputs": []
    },
    {
      "cell_type": "code",
      "metadata": {
        "id": "VL_2dGHozqid",
        "colab_type": "code",
        "colab": {}
      },
      "source": [
        "def temp(all_inputs, params):\n",
        "  time_steps = int(params['total_time_steps'])\n",
        "  combined_input_size = int(params['input_size'])\n",
        "  encoder_steps = int(params['num_encoder_steps'])\n",
        "  hidden_layer_size = int(params['hidden_layer_size'])\n",
        "  _known_regular_input_idx = json.loads(str(params['known_regular_inputs']))\n",
        "  dropout_rate = float(params['dropout_rate'])\n",
        "  input_size = int(params['input_size'])\n",
        "  num_regular_variables = input_size \n",
        "\n",
        "  regular_inputs = all_inputs[:, :, :num_regular_variables]\n",
        "  # Targets\n",
        "  _input_obs_loc = json.loads(str(params['input_obs_loc']))\n",
        "  obs_inputs = tf.keras.backend.stack([\n",
        "  convert_real_to_embedding(regular_inputs[Ellipsis, i:i + 1]) for i in _input_obs_loc], axis=-1)\n",
        "  unknown_inputs = []\n",
        "  for i in range(regular_inputs.shape[-1]):\n",
        "    if i not in _known_regular_input_idx and i not in _input_obs_loc:\n",
        "      e = convert_real_to_embedding(regular_inputs[Ellipsis, i:i + 1])\n",
        "      unknown_inputs.append(e)\n",
        "\n",
        "  known_regular_inputs = [\n",
        "      convert_real_to_embedding(regular_inputs[Ellipsis, i:i + 1])\n",
        "      for i in _known_regular_input_idx]\n",
        "\n",
        "  known_combined_layer = tf.keras.backend.stack(known_regular_inputs, axis=-1)\n",
        "  historical_inputs = tf.keras.backend.concatenate([known_combined_layer[:, :encoder_steps, :], obs_inputs[:, :encoder_steps, :]],axis=-1)\n",
        "  future_inputs = known_combined_layer[:, encoder_steps:, :]\n",
        "  _, time_steps, embedding_dim, num_inputs = historical_inputs.get_shape().as_list()\n",
        "  flatten = tf.keras.backend.reshape(historical_inputs, [-1, time_steps, embedding_dim * num_inputs])\n",
        "  mlp_outputs, _ = gated_residual_network( flatten, hidden_layer_size, output_size=num_inputs, dropout_rate= dropout_rate,\n",
        "            use_time_distributed=True, return_gate=True)\n",
        "\n",
        "  sparse_weights = tf.keras.layers.Activation('softmax')(mlp_outputs)\n",
        "  sparse_weights = tf.expand_dims(sparse_weights, axis=2)\n",
        "\n",
        "  trans_emb_list = []\n",
        "  for i in range(num_inputs):\n",
        "    grn_output = gated_residual_network( historical_inputs[Ellipsis, i], hidden_layer_size, dropout_rate=dropout_rate,\n",
        "        use_time_distributed=True)\n",
        "    trans_emb_list.append(grn_output)\n",
        "\n",
        "  transformed_embedding = tf.keras.backend.stack(trans_emb_list, axis=-1)\n",
        "  combined = tf.keras.layers.Multiply()([sparse_weights, transformed_embedding])\n",
        "  temporal_ctx = tf.keras.backend.sum(combined, axis=-1)\n",
        "  historical_features, historical_flags = temporal_ctx, sparse_weights\n",
        "\n",
        "  _, time_steps, embedding_dim, num_inputs = future_inputs.get_shape().as_list()\n",
        "  flatten = tf.keras.backend.reshape(future_inputs, [-1, time_steps, embedding_dim * num_inputs])\n",
        "  \n",
        "  mlp_outputs, _ = gated_residual_network(flatten,hidden_layer_size, output_size=num_inputs,dropout_rate=dropout_rate,\n",
        "            use_time_distributed=True, return_gate=True)\n",
        "\n",
        "  sparse_weights = tf.keras.layers.Activation('softmax')(mlp_outputs)\n",
        "  sparse_weights = tf.expand_dims(sparse_weights, axis=2)\n",
        "\n",
        "  trans_emb_list = []\n",
        "  for i in range(num_inputs):\n",
        "    grn_output = gated_residual_network( future_inputs[Ellipsis, i], hidden_layer_size, dropout_rate=dropout_rate,\n",
        "        use_time_distributed=True)\n",
        "    trans_emb_list.append(grn_output)\n",
        "\n",
        "  transformed_embedding = tf.keras.backend.stack(trans_emb_list, axis=-1)\n",
        "  combined = tf.keras.layers.Multiply()([sparse_weights, transformed_embedding])\n",
        "  temporal_ctx = tf.keras.backend.sum(combined, axis=-1)\n",
        "  future_features, future_flags = temporal_ctx, sparse_weights\n",
        "  history_lstm, state_h, state_c = tf.compat.v1.keras.layers.CuDNNLSTM(hidden_layer_size, return_sequences=True, return_state=True, stateful=False)(historical_features)\n",
        "  future_lstm = tf.compat.v1.keras.layers.CuDNNLSTM(hidden_layer_size, return_sequences=True, return_state=False, stateful=False)(future_features, initial_state=[state_h, state_c])\n",
        "  lstm_layer = tf.keras.backend.concatenate([history_lstm, future_lstm], axis=1)\n",
        "  lstm_layer, _ = apply_gating_layer(lstm_layer, hidden_layer_size, dropout_rate, activation=None)\n",
        "  input_embeddings = tf.keras.backend.concatenate([historical_features, future_features], axis=1)\n",
        "  temporal_feature_layer = add_and_norm([lstm_layer, input_embeddings])\n",
        "  enriched, _ = gated_residual_network(temporal_feature_layer, hidden_layer_size, dropout_rate=dropout_rate,\n",
        "          use_time_distributed=True, return_gate=True)\n",
        "\n",
        "  # Attention\n",
        "  num_heads = int(params['num_heads'])\n",
        "  mask = get_decoder_mask(enriched)\n",
        "  heads = []\n",
        "  d_k = d_v = hidden_layer_size // num_heads\n",
        "\n",
        "  for i in range(num_heads):\n",
        "    q = tf.keras.layers.Dense(d_k, use_bias=False)(enriched)\n",
        "    k = tf.keras.layers.Dense(d_k, use_bias=False)(enriched)\n",
        "    v = tf.keras.layers.Dense(d_k, use_bias=False)(enriched) \n",
        "    temper = tf.sqrt(tf.cast(tf.shape(k)[-1], dtype='float32'))\n",
        "    attn = tf.keras.layers.Lambda(lambda x :  tf.keras.backend.batch_dot(x[0], x[1], axes=[2, 2]) )([q, k])  \n",
        "    attn = attn / temper\n",
        "\n",
        "    if mask is not None:\n",
        "      mmask = tf.keras.layers.Lambda(lambda x: (-1e+9) * (1. - tf.keras.backend.cast(x, 'float32')))(mask)  # setting to infinity\n",
        "      attn = tf.keras.layers.Add()([attn, mmask])\n",
        "\n",
        "    attn = tf.keras.layers.Activation('softmax')(attn)\n",
        "    attn = tf.keras.layers.Dropout(0.0)(attn)\n",
        "    head = tf.keras.layers.Lambda(lambda x: tf.keras.backend.batch_dot(x[0], x[1]))([attn, v]) \n",
        "    head_dropout = tf.keras.layers.Dropout(dropout_rate)(head)\n",
        "    heads.append(head_dropout)\n",
        "    \n",
        "  head = tf.keras.backend.stack(heads) if num_heads > 1 else heads[0]\n",
        "  x = tf.keras.backend.mean(head, axis=0) if num_heads > 1 else head\n",
        "  x = tf.keras.layers.Dense(hidden_layer_size, use_bias=False)(x)\n",
        "  x = tf.keras.layers.Dropout(dropout_rate)(x)  # output dropout\n",
        "  x, _ = apply_gating_layer(x,hidden_layer_size,dropout_rate=dropout_rate,activation=None)\n",
        "  x = add_and_norm([x, enriched])\n",
        "  decoder = gated_residual_network(x, hidden_layer_size, dropout_rate=dropout_rate, use_time_distributed=True)\n",
        "  decoder, _ = apply_gating_layer(decoder, hidden_layer_size, activation=None)\n",
        "  transformer_layer = add_and_norm([decoder, temporal_feature_layer])\n",
        "  outputs = transformer_layer[Ellipsis, num_encoder_steps:, :]\n",
        "  outputs = tf.keras.layers.TimeDistributed( tf.keras.layers.Dense(output_size * len(quantiles))) (outputs)\n",
        "\n",
        "  return outputs\n"
      ],
      "execution_count": null,
      "outputs": []
    },
    {
      "cell_type": "code",
      "metadata": {
        "id": "9bzFLrP5zqfG",
        "colab_type": "code",
        "colab": {
          "base_uri": "https://localhost:8080/",
          "height": 84
        },
        "outputId": "0f744b28-cc2a-4498-815f-90ed45396827"
      },
      "source": [
        "# Nsplit = 1000\n",
        "data, val_data, labels, val_labels = train_test_split(data_all['inputs'], data_all['outputs'], test_size=0.2)\n",
        "print(np.shape(data))\n",
        "print(np.shape(labels))\n",
        "print(np.shape(val_data))\n",
        "print(np.shape(val_labels))"
      ],
      "execution_count": null,
      "outputs": [
        {
          "output_type": "stream",
          "text": [
            "(58564, 800, 2)\n",
            "(58564, 50, 1)\n",
            "(14642, 800, 2)\n",
            "(14642, 50, 1)\n"
          ],
          "name": "stdout"
        }
      ]
    },
    {
      "cell_type": "code",
      "metadata": {
        "id": "CRECOvBczzCc",
        "colab_type": "code",
        "colab": {}
      },
      "source": [
        "all_callbacks = [\n",
        "    tf.keras.callbacks.EarlyStopping( monitor='val_loss', patience=params['early_stopping_patience'], min_delta=1e-4),\n",
        "    tf.keras.callbacks.ModelCheckpoint( filepath=os.path.join(params['model_folder'], '2aa-b.check'), monitor='val_loss',\n",
        "        save_best_only=True, save_weights_only=True),\n",
        "    tf.keras.callbacks.TerminateOnNaN(),\n",
        "    tf.keras.callbacks.CSVLogger('log.csv', separator=\",\", append=False),\n",
        "    # tf.keras.callbacks.ProgbarLogger(count_mode=\"samples\", stateful_metrics=None)  \n",
        "      ]"
      ],
      "execution_count": null,
      "outputs": []
    },
    {
      "cell_type": "code",
      "metadata": {
        "id": "588hhr5Czqab",
        "colab_type": "code",
        "colab": {}
      },
      "source": [
        "num_epochs = 10\n",
        "all_inputs = tf.keras.layers.Input(shape=(params['total_time_steps'], params['input_size'],))\n",
        "outputs = temp(all_inputs, params)\n",
        "model = tf.keras.Model(inputs=all_inputs, outputs=outputs)\n",
        "model.compile(loss=quantile_loss, optimizer=adam, sample_weight_mode='temporal')\n"
      ],
      "execution_count": null,
      "outputs": []
    },
    {
      "cell_type": "markdown",
      "metadata": {
        "id": "jjMMIdIjXDST",
        "colab_type": "text"
      },
      "source": [
        "## Train"
      ]
    },
    {
      "cell_type": "code",
      "metadata": {
        "id": "5b-YKcjTOFz8",
        "colab_type": "code",
        "colab": {
          "base_uri": "https://localhost:8080/",
          "height": 50
        },
        "outputId": "4bca0d75-7cd3-4a79-f9f0-61abee1f4fd6"
      },
      "source": [
        "# hist= model.fit(\n",
        "#         x=data,\n",
        "#         y=np.concatenate([labels, labels, labels], axis=-1),\n",
        "#         epochs=50,\n",
        "#         batch_size=128,\n",
        "#         validation_data=(val_data, np.concatenate([val_labels, val_labels, val_labels], axis=-1)),\n",
        "#         callbacks=all_callbacks,\n",
        "#         shuffle=True,\n",
        "#         verbose = 1,\n",
        "#         use_multiprocessing=True,\n",
        "#         workers=n_multiprocessing_workers)"
      ],
      "execution_count": null,
      "outputs": [
        {
          "output_type": "stream",
          "text": [
            "Epoch 1/50\n",
            "362/458 [======================>.......] - ETA: 1:26 - loss: 0.5859"
          ],
          "name": "stdout"
        }
      ]
    },
    {
      "cell_type": "code",
      "metadata": {
        "id": "buykUiZMz-HE",
        "colab_type": "code",
        "colab": {}
      },
      "source": [
        "# model.summary"
      ],
      "execution_count": null,
      "outputs": []
    },
    {
      "cell_type": "code",
      "metadata": {
        "id": "HY7UrWtXzzJ5",
        "colab_type": "code",
        "colab": {}
      },
      "source": [
        ""
      ],
      "execution_count": null,
      "outputs": []
    },
    {
      "cell_type": "markdown",
      "metadata": {
        "id": "4RktAs5vXIoU",
        "colab_type": "text"
      },
      "source": [
        "## Test"
      ]
    },
    {
      "cell_type": "code",
      "metadata": {
        "id": "4LPzNtBPzzHp",
        "colab_type": "code",
        "colab": {
          "base_uri": "https://localhost:8080/",
          "height": 33
        },
        "outputId": "27b30042-f327-4290-fb41-f70872fa58ea"
      },
      "source": [
        "# model.load_weights(filepath=os.path.join(params['model_folder'], '2aa.check')) \n",
        "# model.load_weights(filepath=os.path.join(params['model_folder'], '2aa-100.check')) \n",
        "model.load_weights(filepath=os.path.join(params['model_folder'], '2aa-750.check')) "
      ],
      "execution_count": null,
      "outputs": [
        {
          "output_type": "execute_result",
          "data": {
            "text/plain": [
              "<tensorflow.python.training.tracking.util.CheckpointLoadStatus at 0x7f341e746cc0>"
            ]
          },
          "metadata": {
            "tags": []
          },
          "execution_count": 18
        }
      ]
    },
    {
      "cell_type": "code",
      "metadata": {
        "id": "2GpbGThmYOpI",
        "colab_type": "code",
        "colab": {
          "base_uri": "https://localhost:8080/",
          "height": 33
        },
        "outputId": "18f394dc-a30d-487d-ceac-1668eeabb2cb"
      },
      "source": [
        "Nstep = params['total_time_steps'] - params['num_encoder_steps']\n",
        "Linput = params['num_encoder_steps']\n",
        "\n",
        "# Scaler\n",
        "Linput = params['num_encoder_steps']\n",
        "itest = 2\n",
        "df = pd.read_csv(f'CASE{list_test[itest]}_Acc.txt', skiprows=1, header=None, sep='\\t')\n",
        "df_m = pd.DataFrame()\n",
        "df_m['top'] = df[1].values[7000:20000]\n",
        "df_m['motion'] = df[19].values[7000:20000]\n",
        "for i in list_sensor:\n",
        "  df_m[f'{i}'] = df[i].values[7000:20000]\n",
        "df_scale = df_m\n",
        "df_scale[col_mappings['inputs']] = real_scalers.transform(df_m[col_mappings['inputs']].values)\n",
        "data_test = df_to_data(df_scale, col_mappings, params)\n",
        "x_actual  =  data_test['inputs'][:-Linput:Nstep]\n",
        "y_actual=  data_test['outputs'][:-Linput:Nstep]\n",
        "x_actual.shape"
      ],
      "execution_count": null,
      "outputs": [
        {
          "output_type": "execute_result",
          "data": {
            "text/plain": [
              "(230, 800, 2)"
            ]
          },
          "metadata": {
            "tags": []
          },
          "execution_count": 65
        }
      ]
    },
    {
      "cell_type": "code",
      "metadata": {
        "id": "5ruAulBEXxQK",
        "colab_type": "code",
        "colab": {}
      },
      "source": [
        "# motion = np.empty((12500,5))\n",
        "Ltotal = len(x_actual[:,-Nstep:,1].reshape(-1,1))+Linput\n",
        "motion = np.empty((Ltotal,N_input_size-1))\n",
        "y_one_all = np.empty(Ltotal)\n",
        "y_rep_all = np.empty(Ltotal)\n",
        "y_true  = np.empty(Ltotal)\n",
        "\n",
        "motion[0:Linput,:]  =   x_actual[0,0:Linput,1:]\n",
        "motion[Linput:,:] = x_actual[:,-Nstep:,1:].reshape(-1,N_input_size-1)\n",
        "# motion[Linput:,:] = x_actual[:,-Nstep:,1:].reshape(-1,1)\n",
        "y_true[0:Linput] = x_actual[0,0:Linput,0]\n",
        "y_true[Linput:] = x_actual[:,-Nstep:,0].reshape(-1)\n",
        "\n"
      ],
      "execution_count": null,
      "outputs": []
    },
    {
      "cell_type": "code",
      "metadata": {
        "id": "sm53V1chYcOQ",
        "colab_type": "code",
        "colab": {}
      },
      "source": [
        "y_rep_all[0:Linput] = x_actual[0,0:Linput,0].copy()\n",
        "y_rep_all[Linput:] = x_actual[:,-Nstep:,0].reshape(-1)\n",
        "x_hybrid = x_actual[0:1,:,:].copy()\n",
        "\n",
        "for j in range(1,200):\n",
        "  istart = 1000\n",
        "  idx = istart + Nstep*j\n",
        "  x_hybrid[0,0:Linput,0] = y_rep_all[idx - Linput : idx]\n",
        "  # x_hybrid[0,0:Linput,0] = y_true[idx - Linput : idx]\n",
        "  x_hybrid[0,:,1:] = motion[idx-Linput : idx+Nstep,:]  \n",
        "  y_pred_rep = model.predict(x_hybrid, workers=16, use_multiprocessing=True, batch_size=params['minibatch_size'])\n",
        "  y_rep_all[idx : idx+Nstep] = y_pred_rep[0,:,1]\n"
      ],
      "execution_count": null,
      "outputs": []
    },
    {
      "cell_type": "code",
      "metadata": {
        "id": "y8o_5lz8WJ2F",
        "colab_type": "code",
        "colab": {
          "base_uri": "https://localhost:8080/",
          "height": 281
        },
        "outputId": "6b07a3f7-83d4-4a11-8b51-895b1325319b"
      },
      "source": [
        "plt.subplot(211)\n",
        "plt.plot(y_true)\n",
        "plt.subplot(212)\n",
        "plt.plot(y_rep_all)"
      ],
      "execution_count": null,
      "outputs": [
        {
          "output_type": "execute_result",
          "data": {
            "text/plain": [
              "[<matplotlib.lines.Line2D at 0x7f341b2a4f98>]"
            ]
          },
          "metadata": {
            "tags": []
          },
          "execution_count": 68
        },
        {
          "output_type": "display_data",
          "data": {
            "image/png": "[encoded data removed]",
            "text/plain": [
              "<Figure size 432x288 with 2 Axes>"
            ]
          },
          "metadata": {
            "tags": [],
            "needs_background": "light"
          }
        }
      ]
    },
    {
      "cell_type": "code",
      "metadata": {
        "id": "75leGM73XTv4",
        "colab_type": "code",
        "colab": {
          "base_uri": "https://localhost:8080/",
          "height": 33
        },
        "outputId": "caa07c37-0055-4178-f211-fec0853fa806"
      },
      "source": [
        "y_true_sc = output_scalers.inverse_transform(y_true)\n",
        "y_rep_all_sc = output_scalers.inverse_transform(y_rep_all)\n",
        "distance, _ = fastdtw(y_true_sc, y_rep_all_sc, dist=euclidean) \n",
        "distance_sc = distance / math.sqrt(np.mean(y_true_sc**2))  \n",
        "distance_sc / 10000 *100"
      ],
      "execution_count": null,
      "outputs": [
        {
          "output_type": "execute_result",
          "data": {
            "text/plain": [
              "5.153072304832638"
            ]
          },
          "metadata": {
            "tags": []
          },
          "execution_count": 69
        }
      ]
    },
    {
      "cell_type": "code",
      "metadata": {
        "id": "zgZxhSfy7z86",
        "colab_type": "code",
        "colab": {
          "base_uri": "https://localhost:8080/",
          "height": 33
        },
        "outputId": "cff676aa-2f1e-41e7-a035-2bb618ca6477"
      },
      "source": [
        ""
      ],
      "execution_count": null,
      "outputs": [
        {
          "output_type": "execute_result",
          "data": {
            "text/plain": [
              "32.48643171192286"
            ]
          },
          "metadata": {
            "tags": []
          },
          "execution_count": 79
        }
      ]
    },
    {
      "cell_type": "markdown",
      "metadata": {
        "id": "-zgwREwnp3Vb",
        "colab_type": "text"
      },
      "source": [
        "## Prediction 18-single"
      ]
    },
    {
      "cell_type": "code",
      "metadata": {
        "id": "7rAm9GaLXyud",
        "colab_type": "code",
        "colab": {}
      },
      "source": [
        "\n",
        "model.load_weights(filepath=os.path.join(params['model_folder'], '2aa-750.check')) "
      ],
      "execution_count": null,
      "outputs": []
    },
    {
      "cell_type": "code",
      "metadata": {
        "id": "KSYxza_pp8-u",
        "colab_type": "code",
        "colab": {}
      },
      "source": [
        "Nstep = params['total_time_steps'] - params['num_encoder_steps']\n",
        "Linput = params['num_encoder_steps']\n",
        "\n",
        "# Scaler\n",
        "Linput = params['num_encoder_steps']\n",
        "itest = 2\n",
        "df = pd.read_csv(f'CASE{list_test[itest]}_Acc.txt', skiprows=1, header=None, sep='\\t')\n",
        "df_m = pd.DataFrame()\n",
        "df_m['top'] = df[2].values[7000:20000]\n",
        "df_m['motion'] = df[19].values[7000:20000]\n",
        "for i in list_sensor:\n",
        "  df_m[f'{i}'] = df[i].values[7000:20000]\n",
        "df_scale = df_m\n",
        "df_scale[col_mappings['inputs']] = real_scalers.transform(df_m[col_mappings['inputs']].values)\n",
        "data_test = df_to_data(df_scale, col_mappings, params)\n",
        "x_actual  =  data_test['inputs'][:-Linput:Nstep]\n",
        "y_actual=  data_test['outputs'][:-Linput:Nstep]\n",
        "x_actual.shape"
      ],
      "execution_count": null,
      "outputs": []
    },
    {
      "cell_type": "code",
      "metadata": {
        "id": "IZJQDhxMp9CS",
        "colab_type": "code",
        "colab": {}
      },
      "source": [
        "# motion = np.empty((12500,5))\n",
        "Ltotal = len(x_actual[:,-Nstep:,1].reshape(-1,1))+Linput\n",
        "motion = np.empty((Ltotal,N_input_size-1))\n",
        "y_one_all = np.empty(Ltotal)\n",
        "y_rep_all = np.empty(Ltotal)\n",
        "y_true  = np.empty(Ltotal)\n",
        "\n",
        "motion[0:Linput,:]  =   x_actual[0,0:Linput,1:]\n",
        "motion[Linput:,:] = x_actual[:,-Nstep:,1:].reshape(-1,N_input_size-1)\n",
        "# motion[Linput:,:] = x_actual[:,-Nstep:,1:].reshape(-1,1)\n",
        "y_true[0:Linput] = x_actual[0,0:Linput,0]\n",
        "y_true[Linput:] = x_actual[:,-Nstep:,0].reshape(-1)\n",
        "\n"
      ],
      "execution_count": null,
      "outputs": []
    },
    {
      "cell_type": "code",
      "metadata": {
        "id": "w4yWuSw6p9Fr",
        "colab_type": "code",
        "colab": {}
      },
      "source": [
        "y_rep_all[0:Linput] = x_actual[0,0:Linput,0].copy()\n",
        "y_rep_all[Linput:] = x_actual[:,-Nstep:,0].reshape(-1)\n",
        "x_hybrid = x_actual[0:1,:,:].copy()\n",
        "\n",
        "for j in range(1,200):\n",
        "  istart = 1000\n",
        "  idx = istart + Nstep*j\n",
        "  x_hybrid[0,0:Linput,0] = y_rep_all[idx - Linput : idx]\n",
        "  # x_hybrid[0,0:Linput,0] = y_true[idx - Linput : idx]\n",
        "  x_hybrid[0,:,1:] = motion[idx-Linput : idx+Nstep,:]  \n",
        "  y_pred_rep = model.predict(x_hybrid, workers=16, use_multiprocessing=True, batch_size=params['minibatch_size'])\n",
        "  y_rep_all[idx : idx+Nstep] = y_pred_rep[0,:,1]\n"
      ],
      "execution_count": null,
      "outputs": []
    },
    {
      "cell_type": "code",
      "metadata": {
        "id": "Lshe7EleqEpr",
        "colab_type": "code",
        "colab": {}
      },
      "source": [
        "plt.subplot(211)\n",
        "plt.plot(y_true)\n",
        "plt.subplot(212)\n",
        "plt.plot(y_rep_all)"
      ],
      "execution_count": null,
      "outputs": []
    }
  ]
}