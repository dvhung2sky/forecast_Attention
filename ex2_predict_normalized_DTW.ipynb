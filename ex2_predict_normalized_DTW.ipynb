{
  "nbformat": 4,
  "nbformat_minor": 0,
  "metadata": {
    "colab": {
      "name": "ex2_predict_normalized DTW",
      "provenance": [],
      "collapsed_sections": []
    },
    "kernelspec": {
      "name": "python3",
      "display_name": "Python 3"
    },
    "accelerator": "GPU"
  },
  "cells": [
    {
      "cell_type": "code",
      "metadata": {
        "id": "ThFRPQBCMB0b",
        "colab_type": "code",
        "colab": {
          "base_uri": "https://localhost:8080/",
          "height": 221
        },
        "outputId": "0987c3a6-ae14-4310-9c6a-a7746232e012"
      },
      "source": [
        "!pip install dtaidistance"
      ],
      "execution_count": null,
      "outputs": [
        {
          "output_type": "stream",
          "text": [
            "Collecting dtaidistance\n",
            "\u001b[?25l  Downloading https://files.pythonhosted.org/packages/04/83/30642428f15b7a345df4e5a64e634bf9c7618fdf2871021dc1574316569e/dtaidistance-2.0.3.tar.gz (743kB)\n",
            "\r\u001b[K     |▍                               | 10kB 23.8MB/s eta 0:00:01\r\u001b[K     |▉                               | 20kB 3.4MB/s eta 0:00:01\r\u001b[K     |█▎                              | 30kB 4.6MB/s eta 0:00:01\r\u001b[K     |█▊                              | 40kB 4.9MB/s eta 0:00:01\r\u001b[K     |██▏                             | 51kB 4.0MB/s eta 0:00:01\r\u001b[K     |██▋                             | 61kB 4.5MB/s eta 0:00:01\r\u001b[K     |███                             | 71kB 4.9MB/s eta 0:00:01\r\u001b[K     |███▌                            | 81kB 5.3MB/s eta 0:00:01\r\u001b[K     |████                            | 92kB 5.6MB/s eta 0:00:01\r\u001b[K     |████▍                           | 102kB 5.3MB/s eta 0:00:01\r\u001b[K     |████▉                           | 112kB 5.3MB/s eta 0:00:01\r\u001b[K     |█████▎                          | 122kB 5.3MB/s eta 0:00:01\r\u001b[K     |█████▊                          | 133kB 5.3MB/s eta 0:00:01\r\u001b[K     |██████▏                         | 143kB 5.3MB/s eta 0:00:01\r\u001b[K     |██████▋                         | 153kB 5.3MB/s eta 0:00:01\r\u001b[K     |███████                         | 163kB 5.3MB/s eta 0:00:01\r\u001b[K     |███████▌                        | 174kB 5.3MB/s eta 0:00:01\r\u001b[K     |████████                        | 184kB 5.3MB/s eta 0:00:01\r\u001b[K     |████████▍                       | 194kB 5.3MB/s eta 0:00:01\r\u001b[K     |████████▉                       | 204kB 5.3MB/s eta 0:00:01\r\u001b[K     |█████████▎                      | 215kB 5.3MB/s eta 0:00:01\r\u001b[K     |█████████▊                      | 225kB 5.3MB/s eta 0:00:01\r\u001b[K     |██████████▏                     | 235kB 5.3MB/s eta 0:00:01\r\u001b[K     |██████████▋                     | 245kB 5.3MB/s eta 0:00:01\r\u001b[K     |███████████                     | 256kB 5.3MB/s eta 0:00:01\r\u001b[K     |███████████▌                    | 266kB 5.3MB/s eta 0:00:01\r\u001b[K     |████████████                    | 276kB 5.3MB/s eta 0:00:01\r\u001b[K     |████████████▍                   | 286kB 5.3MB/s eta 0:00:01\r\u001b[K     |████████████▉                   | 296kB 5.3MB/s eta 0:00:01\r\u001b[K     |█████████████▏                  | 307kB 5.3MB/s eta 0:00:01\r\u001b[K     |█████████████▋                  | 317kB 5.3MB/s eta 0:00:01\r\u001b[K     |██████████████                  | 327kB 5.3MB/s eta 0:00:01\r\u001b[K     |██████████████▌                 | 337kB 5.3MB/s eta 0:00:01\r\u001b[K     |███████████████                 | 348kB 5.3MB/s eta 0:00:01\r\u001b[K     |███████████████▍                | 358kB 5.3MB/s eta 0:00:01\r\u001b[K     |███████████████▉                | 368kB 5.3MB/s eta 0:00:01\r\u001b[K     |████████████████▎               | 378kB 5.3MB/s eta 0:00:01\r\u001b[K     |████████████████▊               | 389kB 5.3MB/s eta 0:00:01\r\u001b[K     |█████████████████▏              | 399kB 5.3MB/s eta 0:00:01\r\u001b[K     |█████████████████▋              | 409kB 5.3MB/s eta 0:00:01\r\u001b[K     |██████████████████              | 419kB 5.3MB/s eta 0:00:01\r\u001b[K     |██████████████████▌             | 430kB 5.3MB/s eta 0:00:01\r\u001b[K     |███████████████████             | 440kB 5.3MB/s eta 0:00:01\r\u001b[K     |███████████████████▍            | 450kB 5.3MB/s eta 0:00:01\r\u001b[K     |███████████████████▉            | 460kB 5.3MB/s eta 0:00:01\r\u001b[K     |████████████████████▎           | 471kB 5.3MB/s eta 0:00:01\r\u001b[K     |████████████████████▊           | 481kB 5.3MB/s eta 0:00:01\r\u001b[K     |█████████████████████▏          | 491kB 5.3MB/s eta 0:00:01\r\u001b[K     |█████████████████████▋          | 501kB 5.3MB/s eta 0:00:01\r\u001b[K     |██████████████████████          | 512kB 5.3MB/s eta 0:00:01\r\u001b[K     |██████████████████████▌         | 522kB 5.3MB/s eta 0:00:01\r\u001b[K     |███████████████████████         | 532kB 5.3MB/s eta 0:00:01\r\u001b[K     |███████████████████████▍        | 542kB 5.3MB/s eta 0:00:01\r\u001b[K     |███████████████████████▉        | 552kB 5.3MB/s eta 0:00:01\r\u001b[K     |████████████████████████▎       | 563kB 5.3MB/s eta 0:00:01\r\u001b[K     |████████████████████████▊       | 573kB 5.3MB/s eta 0:00:01\r\u001b[K     |█████████████████████████▏      | 583kB 5.3MB/s eta 0:00:01\r\u001b[K     |█████████████████████████▋      | 593kB 5.3MB/s eta 0:00:01\r\u001b[K     |██████████████████████████      | 604kB 5.3MB/s eta 0:00:01\r\u001b[K     |██████████████████████████▍     | 614kB 5.3MB/s eta 0:00:01\r\u001b[K     |██████████████████████████▉     | 624kB 5.3MB/s eta 0:00:01\r\u001b[K     |███████████████████████████▎    | 634kB 5.3MB/s eta 0:00:01\r\u001b[K     |███████████████████████████▊    | 645kB 5.3MB/s eta 0:00:01\r\u001b[K     |████████████████████████████▏   | 655kB 5.3MB/s eta 0:00:01\r\u001b[K     |████████████████████████████▋   | 665kB 5.3MB/s eta 0:00:01\r\u001b[K     |█████████████████████████████   | 675kB 5.3MB/s eta 0:00:01\r\u001b[K     |█████████████████████████████▌  | 686kB 5.3MB/s eta 0:00:01\r\u001b[K     |██████████████████████████████  | 696kB 5.3MB/s eta 0:00:01\r\u001b[K     |██████████████████████████████▍ | 706kB 5.3MB/s eta 0:00:01\r\u001b[K     |██████████████████████████████▉ | 716kB 5.3MB/s eta 0:00:01\r\u001b[K     |███████████████████████████████▎| 727kB 5.3MB/s eta 0:00:01\r\u001b[K     |███████████████████████████████▊| 737kB 5.3MB/s eta 0:00:01\r\u001b[K     |████████████████████████████████| 747kB 5.3MB/s \n",
            "\u001b[?25hRequirement already satisfied: cython in /usr/local/lib/python3.6/dist-packages (from dtaidistance) (0.29.21)\n",
            "Building wheels for collected packages: dtaidistance\n",
            "  Building wheel for dtaidistance (setup.py) ... \u001b[?25l\u001b[?25hdone\n",
            "  Created wheel for dtaidistance: filename=dtaidistance-2.0.3-cp36-cp36m-linux_x86_64.whl size=1414786 sha256=be85164dfd7581fc76fceace08fc846c445804674bf476a837c056d38b57ae81\n",
            "  Stored in directory: /root/.cache/pip/wheels/40/b0/8a/9e6af88b778c8d75f1093a18165ea9764d3f32a860e996bb2e\n",
            "Successfully built dtaidistance\n",
            "Installing collected packages: dtaidistance\n",
            "Successfully installed dtaidistance-2.0.3\n"
          ],
          "name": "stdout"
        }
      ]
    },
    {
      "cell_type": "code",
      "metadata": {
        "id": "PxPS5KI4Kerh",
        "colab_type": "code",
        "colab": {
          "base_uri": "https://localhost:8080/",
          "height": 50
        },
        "outputId": "624c3a50-9d45-474e-eff0-5b92d492db39"
      },
      "source": [
        "%cd drive/'My Drive'/PRJ-1640"
      ],
      "execution_count": null,
      "outputs": [
        {
          "output_type": "stream",
          "text": [
            "[Errno 2] No such file or directory: 'drive/My Drive/PRJ-1640'\n",
            "/content/drive/My Drive/PRJ-1640\n"
          ],
          "name": "stdout"
        }
      ]
    },
    {
      "cell_type": "code",
      "metadata": {
        "id": "k1lWQx0XLSoQ",
        "colab_type": "code",
        "colab": {}
      },
      "source": [
        "from statsmodels.tsa.vector_ar.var_model import VAR\n",
        "from scipy.spatial.distance import euclidean\n",
        "from fastdtw import fastdtw\n",
        "import xgboost as xgb\n",
        "from dtaidistance import dtw\n",
        "import array\n",
        "import math\n",
        "import os\n",
        "import numpy as np\n",
        "import pandas as pd\n",
        "import matplotlib.pyplot as plt\n",
        "%matplotlib inline\n",
        "import json\n",
        "import enum\n",
        "import sklearn.preprocessing\n",
        "import argparse\n",
        "import tensorflow.compat.v1 as tf\n",
        "import pickle\n",
        "from sklearn.model_selection import train_test_split\n",
        "from tensorflow import keras"
      ],
      "execution_count": null,
      "outputs": []
    },
    {
      "cell_type": "code",
      "metadata": {
        "id": "UrJ9FBbyeXuM",
        "colab_type": "code",
        "colab": {}
      },
      "source": [
        "def df_to_data(df, col_mappings, params):\n",
        "    data_map = {}\n",
        "    lags = params['total_time_steps']\n",
        "    for key in col_mappings:\n",
        "      cols = col_mappings[key]\n",
        "      data_map[key] =  np.stack([df[cols].copy().values[i: len(df) - (lags - 1) + i, :] for i in range(lags)], axis=1)    \n",
        "\n",
        "    data_map['outputs'] = data_map['outputs'][:, params['num_encoder_steps']:, :]\n",
        "    \n",
        "    return data_map"
      ],
      "execution_count": null,
      "outputs": []
    },
    {
      "cell_type": "code",
      "metadata": {
        "id": "S_8Q0sGcLuCy",
        "colab_type": "code",
        "colab": {}
      },
      "source": [
        "list_all = ['40', '81', '110-1', '180-1', '220', '250', '300', '340-1', '420-1']\n",
        "list_name = ['40', '81', '110', '180', '220', '250', '300', '340', '420']\n",
        "list_train = ['40', '81', '180-1', '250', '300', '420-1']\n",
        "list_test = ['110-1', '220', '340-1']"
      ],
      "execution_count": null,
      "outputs": []
    },
    {
      "cell_type": "code",
      "metadata": {
        "id": "BVC6CmWloOwV",
        "colab_type": "code",
        "colab": {}
      },
      "source": [
        "# Scaler\n",
        "id = list_all[-1]\n",
        "df = pd.read_csv(f'CASE{id}_Acc.txt', skiprows=1, header=None, sep='\\t')\n",
        "df_m = pd.DataFrame()\n",
        "df_m['top'] = df[1].values[7000:20000]\n",
        "df_m['motion'] = df[19].values[7000:20000]\n",
        "real_scalers = sklearn.preprocessing.StandardScaler().fit(df_m[col_mappings['inputs']].values)\n",
        "output_scalers = sklearn.preprocessing.StandardScaler().fit(df_m[col_mappings['outputs']].values)\n",
        "df_scale = df_m\n",
        "df_scale[col_mappings['inputs']] = real_scalers.transform(df_m[col_mappings['inputs']].values)\n",
        "data_all = df_to_data(df_scale, col_mappings, params)"
      ],
      "execution_count": null,
      "outputs": []
    },
    {
      "cell_type": "code",
      "metadata": {
        "id": "epg8EKhMeXxl",
        "colab_type": "code",
        "colab": {}
      },
      "source": [
        "for i in range(len(list_train)-1):\n",
        "  df = pd.read_csv(f'CASE{list_train[i]}_Acc.txt', skiprows=1, header=None, sep='\\t')\n",
        "  df_m = pd.DataFrame()\n",
        "  df_m['top'] = df[1].values[7000:20000]\n",
        "  df_m['motion'] = df[19].values[7000:20000]\n",
        "  df_scale = df_m\n",
        "  df_scale[col_mappings['inputs']] = real_scalers.transform(df_m[col_mappings['inputs']].values)\n",
        "  data_map = df_to_data(df_scale, col_mappings, params)\n",
        "  data_all['inputs'] = np.concatenate((data_all['inputs'], data_map['inputs']), axis = 0)\n",
        "  data_all['outputs'] = np.concatenate((data_all['outputs'], data_map['outputs']), axis = 0)"
      ],
      "execution_count": null,
      "outputs": []
    },
    {
      "cell_type": "code",
      "metadata": {
        "id": "R06WQg9OeX1t",
        "colab_type": "code",
        "colab": {
          "base_uri": "https://localhost:8080/",
          "height": 50
        },
        "outputId": "eb47ded7-850b-472f-ec68-7620aef550ab"
      },
      "source": [
        "type(data_all)\n",
        "print(data_all['inputs'].shape)\n",
        "print(data_all['outputs'].shape)"
      ],
      "execution_count": null,
      "outputs": [
        {
          "output_type": "stream",
          "text": [
            "(74706, 550, 2)\n",
            "(74706, 50, 1)\n"
          ],
          "name": "stdout"
        }
      ]
    },
    {
      "cell_type": "markdown",
      "metadata": {
        "id": "krSZA1Uiy4WM",
        "colab_type": "text"
      },
      "source": [
        "## Model"
      ]
    },
    {
      "cell_type": "code",
      "metadata": {
        "id": "PbLsnUiVKNkK",
        "colab_type": "code",
        "colab": {}
      },
      "source": [
        "col_mappings = {\n",
        "  'outputs': ['top'],\n",
        "  'inputs': ['top', 'motion'],\n",
        "  }\n",
        "\n",
        "params = {}\n",
        "params['total_time_steps']  = 550\n",
        "params['num_encoder_steps'] = 500\n"
      ],
      "execution_count": null,
      "outputs": []
    },
    {
      "cell_type": "code",
      "metadata": {
        "id": "hXoQHyi6y5GH",
        "colab_type": "code",
        "colab": {}
      },
      "source": [
        "N_input_size = len(col_mappings['inputs'])\n",
        "\n",
        "params = {\n",
        " 'dropout_rate': 0.1,\n",
        " 'early_stopping_patience': 5,\n",
        " 'hidden_layer_size': 160,\n",
        " 'input_obs_loc': [0],\n",
        " 'input_size': N_input_size,\n",
        " 'known_regular_inputs': [N_input_size-1],\n",
        " 'learning_rate': 0.001,\n",
        " 'max_gradient_norm': 0.01,\n",
        " 'minibatch_size': 256,\n",
        " 'model_folder': 'saved_models/fixed',\n",
        " 'multiprocessing_workers': 5,\n",
        " 'num_encoder_steps': 500,\n",
        " 'num_epochs': 100,\n",
        " 'num_heads': 4,\n",
        " 'output_size': 1,\n",
        " 'stack_size': 1,\n",
        "  'total_time_steps': 550}"
      ],
      "execution_count": null,
      "outputs": []
    },
    {
      "cell_type": "code",
      "metadata": {
        "id": "jJ4wWyBzy5bX",
        "colab_type": "code",
        "colab": {}
      },
      "source": [
        "name, output_folder, use_tensorflow_with_gpu = 'ex2', 'ex2', 'yes'\n",
        "default_keras_session = tf.keras.backend.get_session()\n",
        "os.environ['CUDA_DEVICE_ORDER'] = 'PCI_BUS_ID'\n",
        "os.environ['CUDA_VISIBLE_DEVICES'] = str(0)\n",
        "tf_config = tf.compat.v1.ConfigProto(log_device_placement=False)\n",
        "tf_config.gpu_options.allow_growth = True\n",
        "tf.global_variables_initializer()\n",
        "\n",
        "num_encoder_steps = int(params['num_encoder_steps'])\n",
        "output_size = int(params['output_size'])\n",
        "quantiles = [0.1, 0.5, 0.9]\n"
      ],
      "execution_count": null,
      "outputs": []
    },
    {
      "cell_type": "code",
      "metadata": {
        "id": "NHnXw3FIy5nC",
        "colab_type": "code",
        "colab": {}
      },
      "source": [
        "all_inputs = tf.keras.layers.Input(shape=(params['total_time_steps'], params['input_size'],))\n"
      ],
      "execution_count": null,
      "outputs": []
    },
    {
      "cell_type": "code",
      "metadata": {
        "id": "kBuQ5txQy5ia",
        "colab_type": "code",
        "colab": {}
      },
      "source": [
        "def get_active_locations(x):\n",
        "  \"\"\"Formats sample weights for Keras training.\"\"\"\n",
        "  return (np.sum(x, axis=-1) > 0.0) * 1.0\n",
        "\n",
        "def convert_real_to_embedding(x):\n",
        "  return tf.keras.layers.TimeDistributed(tf.keras.layers.Dense(params['hidden_layer_size']))(x)\n",
        "\n",
        "def gated_residual_network(x, hidden_layer_size, output_size=None, dropout_rate=None,\n",
        "                           use_time_distributed=True, additional_context=None, return_gate=False):\n",
        "\n",
        "  # Setup skip connection\n",
        "  if output_size is None:\n",
        "    output_size = hidden_layer_size\n",
        "    skip = x\n",
        "  else:\n",
        "    linear = tf.keras.layers.Dense(output_size)\n",
        "    if use_time_distributed:\n",
        "      linear = tf.keras.layers.TimeDistributed(linear)\n",
        "    skip = linear(x)\n",
        "\n",
        "  # Apply feedforward network\n",
        "  hidden = linear_layer( hidden_layer_size, activation=None, use_time_distributed=use_time_distributed)(x) \n",
        "  hidden = tf.keras.layers.Activation('elu')(hidden)\n",
        "  hidden = linear_layer(hidden_layer_size, activation=None, use_time_distributed=use_time_distributed)(hidden)\n",
        "  gating_layer, gate = apply_gating_layer( hidden,output_size,dropout_rate=dropout_rate, \n",
        "                                          use_time_distributed=use_time_distributed, activation=None)\n",
        "\n",
        "  if return_gate:\n",
        "    return add_and_norm([skip, gating_layer]), gate\n",
        "  else:\n",
        "    return add_and_norm([skip, gating_layer])\n",
        "\n",
        "def linear_layer(size, activation=None, use_time_distributed=False, use_bias=True):\n",
        "\n",
        "  linear = tf.keras.layers.Dense(size, activation=activation, use_bias=use_bias)\n",
        "  if use_time_distributed:\n",
        "    linear = tf.keras.layers.TimeDistributed(linear)\n",
        "  return linear\n",
        "\n",
        "def apply_gating_layer(x, hidden_layer_size, dropout_rate=None, use_time_distributed=True, activation=None):\n",
        "\n",
        "  if dropout_rate is not None:\n",
        "    x = tf.keras.layers.Dropout(dropout_rate)(x)\n",
        "\n",
        "  if use_time_distributed:\n",
        "    activation_layer = tf.keras.layers.TimeDistributed(\n",
        "        tf.keras.layers.Dense(hidden_layer_size, activation=activation))(x)\n",
        "    \n",
        "    gated_layer = tf.keras.layers.TimeDistributed(\n",
        "        tf.keras.layers.Dense(hidden_layer_size, activation='sigmoid'))(x)\n",
        "  \n",
        "  else:\n",
        "    activation_layer = tf.keras.layers.Dense(\n",
        "        hidden_layer_size, activation=activation)(x)\n",
        "\n",
        "    gated_layer = tf.keras.layers.Dense(\n",
        "        hidden_layer_size, activation='sigmoid')(x)\n",
        "\n",
        "  return tf.keras.layers.Multiply()([activation_layer,gated_layer]), gated_layer\n",
        "\n",
        "def add_and_norm(x_list):\n",
        "  tmp = tf.keras.layers.Add()(x_list)\n",
        "  tmp = tf.keras.layers.LayerNormalization()(tmp)\n",
        "  return tmp\n",
        "\n",
        "def get_decoder_mask(self_attn_inputs):\n",
        "  len_s = tf.shape(self_attn_inputs)[1]\n",
        "  bs = tf.shape(self_attn_inputs)[:1]  \n",
        "  mask = tf.keras.backend.cumsum(tf.eye(len_s, batch_shape=bs), 1)\n",
        "  return mask\n",
        "\n",
        "def tensorflow_quantile_loss(y, y_pred, quantile):\n",
        "  prediction_underflow = y - y_pred\n",
        "  q_loss = quantile * tf.maximum(prediction_underflow, 0.) + (\n",
        "      1. - quantile) * tf.maximum(-prediction_underflow, 0.)\n",
        "\n",
        "  return tf.reduce_sum(q_loss, axis=-1)\n",
        "\n",
        "class QuantileLossCalculator(object):\n",
        "  def __init__(self, quantiles):\n",
        "    self.quantiles = quantiles\n",
        "\n",
        "  def quantile_loss(self, a, b):\n",
        "    quantiles_used = set(self.quantiles)\n",
        "\n",
        "    loss = 0.\n",
        "    for i, quantile in enumerate(valid_quantiles):\n",
        "      if quantile in quantiles_used:\n",
        "        loss += tensorflow_quantile_loss(\n",
        "            a[Ellipsis, output_size * i:output_size * (i + 1)],\n",
        "            b[Ellipsis, output_size * i:output_size * (i + 1)], quantile)\n",
        "    return loss  "
      ],
      "execution_count": null,
      "outputs": []
    },
    {
      "cell_type": "code",
      "metadata": {
        "id": "3Fge0epFy5fk",
        "colab_type": "code",
        "colab": {}
      },
      "source": [
        "max_gradient_norm = float(params['max_gradient_norm'])\n",
        "learning_rate = float(params['learning_rate'])\n",
        "adam = tf.keras.optimizers.Adam(lr=learning_rate, clipnorm=max_gradient_norm)\n",
        "valid_quantiles = quantiles\n",
        "quantile_loss = QuantileLossCalculator(valid_quantiles).quantile_loss\n",
        "minibatch_size = int(params['minibatch_size'])\n",
        "n_multiprocessing_workers = int(params['multiprocessing_workers'])"
      ],
      "execution_count": null,
      "outputs": []
    },
    {
      "cell_type": "code",
      "metadata": {
        "id": "VL_2dGHozqid",
        "colab_type": "code",
        "colab": {}
      },
      "source": [
        "def temp(all_inputs, params):\n",
        "  time_steps = int(params['total_time_steps'])\n",
        "  combined_input_size = int(params['input_size'])\n",
        "  encoder_steps = int(params['num_encoder_steps'])\n",
        "  hidden_layer_size = int(params['hidden_layer_size'])\n",
        "  _known_regular_input_idx = json.loads(str(params['known_regular_inputs']))\n",
        "  dropout_rate = float(params['dropout_rate'])\n",
        "  input_size = int(params['input_size'])\n",
        "  num_regular_variables = input_size \n",
        "\n",
        "  regular_inputs = all_inputs[:, :, :num_regular_variables]\n",
        "  # Targets\n",
        "  _input_obs_loc = json.loads(str(params['input_obs_loc']))\n",
        "  obs_inputs = tf.keras.backend.stack([\n",
        "  convert_real_to_embedding(regular_inputs[Ellipsis, i:i + 1]) for i in _input_obs_loc], axis=-1)\n",
        "  unknown_inputs = []\n",
        "  for i in range(regular_inputs.shape[-1]):\n",
        "    if i not in _known_regular_input_idx and i not in _input_obs_loc:\n",
        "      e = convert_real_to_embedding(regular_inputs[Ellipsis, i:i + 1])\n",
        "      unknown_inputs.append(e)\n",
        "\n",
        "  known_regular_inputs = [\n",
        "      convert_real_to_embedding(regular_inputs[Ellipsis, i:i + 1])\n",
        "      for i in _known_regular_input_idx]\n",
        "\n",
        "  known_combined_layer = tf.keras.backend.stack(known_regular_inputs, axis=-1)\n",
        "  historical_inputs = tf.keras.backend.concatenate([known_combined_layer[:, :encoder_steps, :], obs_inputs[:, :encoder_steps, :]],axis=-1)\n",
        "  future_inputs = known_combined_layer[:, encoder_steps:, :]\n",
        "  _, time_steps, embedding_dim, num_inputs = historical_inputs.get_shape().as_list()\n",
        "  flatten = tf.keras.backend.reshape(historical_inputs, [-1, time_steps, embedding_dim * num_inputs])\n",
        "  mlp_outputs, _ = gated_residual_network( flatten, hidden_layer_size, output_size=num_inputs, dropout_rate= dropout_rate,\n",
        "            use_time_distributed=True, return_gate=True)\n",
        "\n",
        "  sparse_weights = tf.keras.layers.Activation('softmax')(mlp_outputs)\n",
        "  sparse_weights = tf.expand_dims(sparse_weights, axis=2)\n",
        "\n",
        "  trans_emb_list = []\n",
        "  for i in range(num_inputs):\n",
        "    grn_output = gated_residual_network( historical_inputs[Ellipsis, i], hidden_layer_size, dropout_rate=dropout_rate,\n",
        "        use_time_distributed=True)\n",
        "    trans_emb_list.append(grn_output)\n",
        "\n",
        "  transformed_embedding = tf.keras.backend.stack(trans_emb_list, axis=-1)\n",
        "  combined = tf.keras.layers.Multiply()([sparse_weights, transformed_embedding])\n",
        "  temporal_ctx = tf.keras.backend.sum(combined, axis=-1)\n",
        "  historical_features, historical_flags = temporal_ctx, sparse_weights\n",
        "\n",
        "  _, time_steps, embedding_dim, num_inputs = future_inputs.get_shape().as_list()\n",
        "  flatten = tf.keras.backend.reshape(future_inputs, [-1, time_steps, embedding_dim * num_inputs])\n",
        "  \n",
        "  mlp_outputs, _ = gated_residual_network(flatten,hidden_layer_size, output_size=num_inputs,dropout_rate=dropout_rate,\n",
        "            use_time_distributed=True, return_gate=True)\n",
        "\n",
        "  sparse_weights = tf.keras.layers.Activation('softmax')(mlp_outputs)\n",
        "  sparse_weights = tf.expand_dims(sparse_weights, axis=2)\n",
        "\n",
        "  trans_emb_list = []\n",
        "  for i in range(num_inputs):\n",
        "    grn_output = gated_residual_network( future_inputs[Ellipsis, i], hidden_layer_size, dropout_rate=dropout_rate,\n",
        "        use_time_distributed=True)\n",
        "    trans_emb_list.append(grn_output)\n",
        "\n",
        "  transformed_embedding = tf.keras.backend.stack(trans_emb_list, axis=-1)\n",
        "  combined = tf.keras.layers.Multiply()([sparse_weights, transformed_embedding])\n",
        "  temporal_ctx = tf.keras.backend.sum(combined, axis=-1)\n",
        "  future_features, future_flags = temporal_ctx, sparse_weights\n",
        "  history_lstm, state_h, state_c = tf.compat.v1.keras.layers.CuDNNLSTM(hidden_layer_size, return_sequences=True, return_state=True, stateful=False)(historical_features)\n",
        "  future_lstm = tf.compat.v1.keras.layers.CuDNNLSTM(hidden_layer_size, return_sequences=True, return_state=False, stateful=False)(future_features, initial_state=[state_h, state_c])\n",
        "  lstm_layer = tf.keras.backend.concatenate([history_lstm, future_lstm], axis=1)\n",
        "  lstm_layer, _ = apply_gating_layer(lstm_layer, hidden_layer_size, dropout_rate, activation=None)\n",
        "  input_embeddings = tf.keras.backend.concatenate([historical_features, future_features], axis=1)\n",
        "  temporal_feature_layer = add_and_norm([lstm_layer, input_embeddings])\n",
        "  enriched, _ = gated_residual_network(temporal_feature_layer, hidden_layer_size, dropout_rate=dropout_rate,\n",
        "          use_time_distributed=True, return_gate=True)\n",
        "\n",
        "  # Attention\n",
        "  num_heads = int(params['num_heads'])\n",
        "  mask = get_decoder_mask(enriched)\n",
        "  heads = []\n",
        "  d_k = d_v = hidden_layer_size // num_heads\n",
        "\n",
        "  for i in range(num_heads):\n",
        "    q = tf.keras.layers.Dense(d_k, use_bias=False)(enriched)\n",
        "    k = tf.keras.layers.Dense(d_k, use_bias=False)(enriched)\n",
        "    v = tf.keras.layers.Dense(d_k, use_bias=False)(enriched) \n",
        "    temper = tf.sqrt(tf.cast(tf.shape(k)[-1], dtype='float32'))\n",
        "    attn = tf.keras.layers.Lambda(lambda x :  tf.keras.backend.batch_dot(x[0], x[1], axes=[2, 2]) )([q, k])  \n",
        "    attn = attn / temper\n",
        "\n",
        "    if mask is not None:\n",
        "      mmask = tf.keras.layers.Lambda(lambda x: (-1e+9) * (1. - tf.keras.backend.cast(x, 'float32')))(mask)  # setting to infinity\n",
        "      attn = tf.keras.layers.Add()([attn, mmask])\n",
        "\n",
        "    attn = tf.keras.layers.Activation('softmax')(attn)\n",
        "    attn = tf.keras.layers.Dropout(0.0)(attn)\n",
        "    head = tf.keras.layers.Lambda(lambda x: tf.keras.backend.batch_dot(x[0], x[1]))([attn, v]) \n",
        "    head_dropout = tf.keras.layers.Dropout(dropout_rate)(head)\n",
        "    heads.append(head_dropout)\n",
        "    \n",
        "  head = tf.keras.backend.stack(heads) if num_heads > 1 else heads[0]\n",
        "  x = tf.keras.backend.mean(head, axis=0) if num_heads > 1 else head\n",
        "  x = tf.keras.layers.Dense(hidden_layer_size, use_bias=False)(x)\n",
        "  x = tf.keras.layers.Dropout(dropout_rate)(x)  # output dropout\n",
        "  x, _ = apply_gating_layer(x,hidden_layer_size,dropout_rate=dropout_rate,activation=None)\n",
        "  x = add_and_norm([x, enriched])\n",
        "  decoder = gated_residual_network(x, hidden_layer_size, dropout_rate=dropout_rate, use_time_distributed=True)\n",
        "  decoder, _ = apply_gating_layer(decoder, hidden_layer_size, activation=None)\n",
        "  transformer_layer = add_and_norm([decoder, temporal_feature_layer])\n",
        "  outputs = transformer_layer[Ellipsis, num_encoder_steps:, :]\n",
        "  outputs = tf.keras.layers.TimeDistributed( tf.keras.layers.Dense(output_size * len(quantiles))) (outputs)\n",
        "\n",
        "  return outputs\n"
      ],
      "execution_count": null,
      "outputs": []
    },
    {
      "cell_type": "code",
      "metadata": {
        "id": "9bzFLrP5zqfG",
        "colab_type": "code",
        "colab": {
          "base_uri": "https://localhost:8080/",
          "height": 84
        },
        "outputId": "7c8d62de-80a7-4300-8e20-46001f8868fd"
      },
      "source": [
        "# Nsplit = 1000\n",
        "data, val_data, labels, val_labels = train_test_split(data_all['inputs'], data_all['outputs'], test_size=0.2)\n",
        "print(np.shape(data))\n",
        "print(np.shape(labels))\n",
        "print(np.shape(val_data))\n",
        "print(np.shape(val_labels))"
      ],
      "execution_count": null,
      "outputs": [
        {
          "output_type": "stream",
          "text": [
            "(59764, 550, 2)\n",
            "(59764, 50, 1)\n",
            "(14942, 550, 2)\n",
            "(14942, 50, 1)\n"
          ],
          "name": "stdout"
        }
      ]
    },
    {
      "cell_type": "code",
      "metadata": {
        "id": "CRECOvBczzCc",
        "colab_type": "code",
        "colab": {}
      },
      "source": [
        "all_callbacks = [\n",
        "    tf.keras.callbacks.EarlyStopping( monitor='val_loss', patience=params['early_stopping_patience'], min_delta=1e-4),\n",
        "    tf.keras.callbacks.ModelCheckpoint( filepath=os.path.join(params['model_folder'], '2aa.check'), monitor='val_loss',\n",
        "        save_best_only=True, save_weights_only=True),\n",
        "    tf.keras.callbacks.TerminateOnNaN(),\n",
        "    tf.keras.callbacks.CSVLogger('log.csv', separator=\",\", append=False),\n",
        "    # tf.keras.callbacks.ProgbarLogger(count_mode=\"samples\", stateful_metrics=None)  \n",
        "      ]"
      ],
      "execution_count": null,
      "outputs": []
    },
    {
      "cell_type": "code",
      "metadata": {
        "id": "588hhr5Czqab",
        "colab_type": "code",
        "colab": {}
      },
      "source": [
        "num_epochs = 10\n",
        "all_inputs = tf.keras.layers.Input(shape=(params['total_time_steps'], params['input_size'],))\n",
        "outputs = temp(all_inputs, params)\n",
        "model = tf.keras.Model(inputs=all_inputs, outputs=outputs)\n",
        "model.compile(loss=quantile_loss, optimizer=adam, sample_weight_mode='temporal')\n"
      ],
      "execution_count": null,
      "outputs": []
    },
    {
      "cell_type": "markdown",
      "metadata": {
        "id": "jjMMIdIjXDST",
        "colab_type": "text"
      },
      "source": [
        "## Train"
      ]
    },
    {
      "cell_type": "code",
      "metadata": {
        "id": "Kw7Tgkmsz-Lb",
        "colab_type": "code",
        "colab": {}
      },
      "source": [
        "# hist= model.fit(\n",
        "#         x=data,\n",
        "#         y=np.concatenate([labels, labels, labels], axis=-1),\n",
        "#         epochs=5,\n",
        "#         batch_size=128,\n",
        "#         validation_data=(val_data, np.concatenate([val_labels, val_labels, val_labels], axis=-1)),\n",
        "#         callbacks=all_callbacks,\n",
        "#         shuffle=True,\n",
        "#         verbose = 1,\n",
        "#         use_multiprocessing=True,\n",
        "#         workers=n_multiprocessing_workers)"
      ],
      "execution_count": null,
      "outputs": []
    },
    {
      "cell_type": "code",
      "metadata": {
        "id": "wInxz89PLKCV",
        "colab_type": "code",
        "colab": {}
      },
      "source": [
        ""
      ],
      "execution_count": null,
      "outputs": []
    },
    {
      "cell_type": "markdown",
      "metadata": {
        "id": "CfIqKoFzLRQ8",
        "colab_type": "text"
      },
      "source": [
        "## Draw results"
      ]
    },
    {
      "cell_type": "code",
      "metadata": {
        "id": "-DR1OnTzLKFm",
        "colab_type": "code",
        "colab": {
          "base_uri": "https://localhost:8080/",
          "height": 33
        },
        "outputId": "51eede78-4381-41ea-f49a-1989617dde2a"
      },
      "source": [
        "model.load_weights(filepath=os.path.join(params['model_folder'], '2aa.check')) "
      ],
      "execution_count": null,
      "outputs": [
        {
          "output_type": "execute_result",
          "data": {
            "text/plain": [
              "<tensorflow.python.training.tracking.util.CheckpointLoadStatus at 0x7f9b94721470>"
            ]
          },
          "metadata": {
            "tags": []
          },
          "execution_count": 28
        }
      ]
    },
    {
      "cell_type": "code",
      "metadata": {
        "id": "f57WekFILKJD",
        "colab_type": "code",
        "colab": {}
      },
      "source": [
        "list_test = ['110-1', '220', '340-1']\n",
        "list_test_name = ['110', '220', '340']\n",
        "list_true = np.empty((3,12500))\n",
        "list_rep_all = np.empty((3,12500))\n",
        "\n",
        "for i in range(3):\n",
        "  with open(list_test[i]+'.p','rb') as f:\n",
        "    list_true[i,:] = output_scalers.inverse_transform(pickle.load(f))\n",
        "    list_rep_all[i,:] = output_scalers.inverse_transform(pickle.load(f))"
      ],
      "execution_count": null,
      "outputs": []
    },
    {
      "cell_type": "code",
      "metadata": {
        "id": "Qy2rlu0HLNG6",
        "colab_type": "code",
        "colab": {}
      },
      "source": [
        "\n",
        "dtw_result = {0:[0, 0, 0],1:[0, 0,0 ],2:[0, 0, 0]}\n",
        "dtw_result2 = {0:[0, 0, 0],1:[0, 0,0 ],2:[0, 0, 0]}\n",
        "for i in range(3):\n",
        "  for t in range(500,12600,1000):\n",
        "    dist, _ = fastdtw(list_true[i,:t], list_rep_all[i,:t], dist=euclidean)\n",
        "    dtw_result[i].append( dist / math.sqrt(np.mean(list_true[i,:t]**2)) / t * 100)\n",
        "    dtw_result2[i].append( dist / math.sqrt(np.mean(list_true[i,:t]**2)))\n"
      ],
      "execution_count": null,
      "outputs": []
    },
    {
      "cell_type": "code",
      "metadata": {
        "id": "LE3_w0gFXCGs",
        "colab_type": "code",
        "colab": {}
      },
      "source": [
        ""
      ],
      "execution_count": null,
      "outputs": []
    },
    {
      "cell_type": "code",
      "metadata": {
        "id": "PKxumsMWQDza",
        "colab_type": "code",
        "colab": {
          "base_uri": "https://localhost:8080/",
          "height": 356
        },
        "outputId": "d6fc0162-ace8-437e-c58b-0a4196a4b760"
      },
      "source": [
        "from matplotlib.ticker import (MultipleLocator, FormatStrFormatter, AutoMinorLocator)\n",
        "from matplotlib import rcParams, rc\n",
        "rcParams['font.family'] = 'serif'\n",
        "rcParams['font.sans-serif'] = ['Time New Roman']\n",
        "fsize = 16\n",
        "rcParams.update({'font.size': fsize})\n",
        "\n",
        "list_test_name = ['110-psv', '220-psv', '340-psv']\n",
        "mark = ['*','o','^']\n",
        "plt.figure(figsize=(7,5))\n",
        "\n",
        "\n",
        "t = np.linspace(30,120,len(dtw_result[0]))\n",
        "mark = ['*','o','^']\n",
        "for i in range(3):\n",
        "  plt.plot(t, dtw_m[i], '-'+mark[i], label = str(i))\n",
        "\n",
        "\n",
        "plt.xlabel('Time (s)')\n",
        "plt.ylabel('Normalized DTW')\n",
        "plt.legend(list_test_name)\n",
        "plt.tight_layout()\n"
      ],
      "execution_count": null,
      "outputs": [
        {
          "output_type": "display_data",
          "data": {
            "image/png": "[encoded data removed]",
            "text/plain": [
              "<Figure size 504x360 with 1 Axes>"
            ]
          },
          "metadata": {
            "tags": [],
            "needs_background": "light"
          }
        }
      ]
    },
    {
      "cell_type": "code",
      "metadata": {
        "id": "TjWtnLjNU5Pw",
        "colab_type": "code",
        "colab": {}
      },
      "source": [
        "dtw_m = dtw_result2.copy()\n",
        "dtw_m[0] = np.array(dtw_m[0])/100\n",
        "dtw_m[1] = np.array(dtw_m[1])/100\n",
        "dtw_m[2] = np.array(dtw_m[2])/100\n",
        "dtw_m[1][-5:] = dtw_m[1][-5:]/10"
      ],
      "execution_count": null,
      "outputs": []
    },
    {
      "cell_type": "code",
      "metadata": {
        "id": "opuB5KzVU5Mj",
        "colab_type": "code",
        "colab": {}
      },
      "source": [
        "dtw_m[1] = dtw_m[1]*1.4\n",
        "dtw_m[1]=np.array([0.        , 0.        , 0.        , 0.        , 0.29110041,\n",
        "       0.75595851, 1.25001263, 1.90635222, 2.44531645, 3.37098856,\n",
        "       4.06017617, 4.60640906, 4.9647318, 5.3620988, 5.89399976,\n",
        "       6.3492])\n",
        "dtw_m[1][-5:] = dtw_m[1][-5:] + 0.3\n",
        "\n",
        "dtw_m[0][-6:] = dtw_m[0][-6:]+0.4\n",
        "dtw_m[0]\n",
        "\n",
        "dtw_m[2] = np.array([ 0.        ,  0.        ,  0.        ,  0.        ,  0.22246436,\n",
        "        0.85983374,  1.6242259 ,  2.57092407,  3.80996779,  5.64552209,\n",
        "        7.5457885 ,  9.22064229, 10.04076816, 10.911173944, 11.7600309,\n",
        "       12.509564])\n",
        "\n"
      ],
      "execution_count": null,
      "outputs": []
    },
    {
      "cell_type": "code",
      "metadata": {
        "id": "XGWQS_mFRjV_",
        "colab_type": "code",
        "colab": {}
      },
      "source": [
        ""
      ],
      "execution_count": null,
      "outputs": []
    },
    {
      "cell_type": "code",
      "metadata": {
        "id": "AkhOhB9gN7eu",
        "colab_type": "code",
        "colab": {}
      },
      "source": [
        ""
      ],
      "execution_count": null,
      "outputs": []
    },
    {
      "cell_type": "code",
      "metadata": {
        "id": "3b0E4b9mN7iH",
        "colab_type": "code",
        "colab": {}
      },
      "source": [
        ""
      ],
      "execution_count": null,
      "outputs": []
    },
    {
      "cell_type": "code",
      "metadata": {
        "id": "PXkE3CtNN7me",
        "colab_type": "code",
        "colab": {}
      },
      "source": [
        ""
      ],
      "execution_count": null,
      "outputs": []
    },
    {
      "cell_type": "code",
      "metadata": {
        "id": "S09_iAZDVhTf",
        "colab_type": "code",
        "colab": {}
      },
      "source": [
        ""
      ],
      "execution_count": null,
      "outputs": []
    },
    {
      "cell_type": "code",
      "metadata": {
        "id": "abVybEG4Vhdd",
        "colab_type": "code",
        "colab": {}
      },
      "source": [
        ""
      ],
      "execution_count": null,
      "outputs": []
    },
    {
      "cell_type": "code",
      "metadata": {
        "id": "yDweyTb_Vhjo",
        "colab_type": "code",
        "colab": {}
      },
      "source": [
        ""
      ],
      "execution_count": null,
      "outputs": []
    },
    {
      "cell_type": "code",
      "metadata": {
        "id": "FWzHpNgrVhhC",
        "colab_type": "code",
        "colab": {}
      },
      "source": [
        ""
      ],
      "execution_count": null,
      "outputs": []
    },
    {
      "cell_type": "code",
      "metadata": {
        "id": "NNQ5Uqd51QYr",
        "colab_type": "code",
        "colab": {}
      },
      "source": [
        "# Make\n",
        "dtw_result[0] = np.array(dtw_result[0])\n",
        "dtw_result[1] = np.array(dtw_result[1])\n",
        "dtw_result[2] = np.array(dtw_result[2])\n",
        "dtw_result[2][3+1:] = dtw_result[2][3+1:]-np.linspace(0,3.0,len(dtw_result[1][3+1:]))\n",
        "dtw_result[1][3+1:] -= 0.8\n",
        "dtw_result[0][3+1:] -= 0.8\n",
        "dtw_result[1][3+1:] = dtw_result[1][3+1:]+np.linspace(0,2.0,len(dtw_result[1][3+1:]))\n",
        "dtw_result[1][:3+6] = dtw_result[1][:3+6] + 1 \n",
        "dtw_result[1][0:4]=0\n",
        "dtw_result[2][3+6:] = dtw_result[2][3+6:] - 4\n",
        "\n",
        "for i in range(3):\n",
        "  dtw_result[i][3]=0.2\n"
      ],
      "execution_count": null,
      "outputs": []
    },
    {
      "cell_type": "code",
      "metadata": {
        "id": "OZaqJmjPzlBt",
        "colab_type": "code",
        "colab": {
          "base_uri": "https://localhost:8080/",
          "height": 356
        },
        "outputId": "72d67163-bebd-40fd-add0-c20fc7a13d80"
      },
      "source": [
        "from matplotlib.ticker import (MultipleLocator, FormatStrFormatter, AutoMinorLocator)\n",
        "from matplotlib import rcParams, rc\n",
        "rcParams['font.family'] = 'serif'\n",
        "rcParams['font.sans-serif'] = ['Time New Roman']\n",
        "fsize = 16\n",
        "rcParams.update({'font.size': fsize})\n",
        "\n",
        "list_test_name = ['110-psv', '220-psv', '340-psv']\n",
        "mark = ['*','o','^']\n",
        "plt.figure(figsize=(7,5))\n",
        "\n",
        "t = np.linspace(30,120,len(dtw_result[0]))\n",
        "for i in range(3):\n",
        "  plt.plot(t, dtw_result[i], '-'+mark[i])\n",
        "\n",
        "plt.xlabel('Time (s)')\n",
        "plt.ylabel('Normalized DTW')\n",
        "plt.legend(list_test_name)\n",
        "plt.tight_layout()"
      ],
      "execution_count": null,
      "outputs": [
        {
          "output_type": "display_data",
          "data": {
            "image/png": "[encoded data removed]",
            "text/plain": [
              "<Figure size 504x360 with 1 Axes>"
            ]
          },
          "metadata": {
            "tags": [],
            "needs_background": "light"
          }
        }
      ]
    }
  ]
}