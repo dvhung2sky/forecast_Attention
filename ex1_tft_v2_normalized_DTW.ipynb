{
  "nbformat": 4,
  "nbformat_minor": 0,
  "metadata": {
    "colab": {
      "name": "ex1_tft_v2_normalized DTW",
      "provenance": [],
      "collapsed_sections": []
    },
    "kernelspec": {
      "name": "python3",
      "display_name": "Python 3"
    },
    "accelerator": "GPU"
  },
  "cells": [
    {
      "cell_type": "code",
      "metadata": {
        "id": "7HEtRxf-9RB_",
        "colab_type": "code",
        "colab": {
          "base_uri": "https://localhost:8080/",
          "height": 50
        },
        "outputId": "dd278e49-4b4d-47a5-f787-fc5d27d52dfd"
      },
      "source": [
        "%cd drive/'My Drive'/ex1_predict"
      ],
      "execution_count": null,
      "outputs": [
        {
          "output_type": "stream",
          "text": [
            "[Errno 2] No such file or directory: 'drive/My Drive/ex1_predict'\n",
            "/content/drive/My Drive/ex1_predict\n"
          ],
          "name": "stdout"
        }
      ]
    },
    {
      "cell_type": "code",
      "metadata": {
        "id": "sQ3NOEOpwODx",
        "colab_type": "code",
        "colab": {
          "base_uri": "https://localhost:8080/",
          "height": 50
        },
        "outputId": "63b671df-6999-4cc6-8896-24c2e3928e6e"
      },
      "source": [
        "!pip install dtaidistance"
      ],
      "execution_count": null,
      "outputs": [
        {
          "output_type": "stream",
          "text": [
            "Requirement already satisfied: dtaidistance in /usr/local/lib/python3.6/dist-packages (2.0.3)\n",
            "Requirement already satisfied: cython in /usr/local/lib/python3.6/dist-packages (from dtaidistance) (0.29.21)\n"
          ],
          "name": "stdout"
        }
      ]
    },
    {
      "cell_type": "code",
      "metadata": {
        "id": "9re1lFOiXi40",
        "colab_type": "code",
        "colab": {}
      },
      "source": [
        "from dtaidistance import dtw\n",
        "from fastdtw import fastdtw\n",
        "import array\n",
        "from scipy.spatial.distance import euclidean\n",
        "import os\n",
        "import numpy as np\n",
        "import pandas as pd\n",
        "import matplotlib.pyplot as plt\n",
        "%matplotlib inline\n",
        "import math\n",
        "import json\n",
        "import enum\n",
        "import sklearn.preprocessing\n",
        "import argparse\n",
        "import tensorflow.compat.v1 as tf\n",
        "import pickle"
      ],
      "execution_count": null,
      "outputs": []
    },
    {
      "cell_type": "code",
      "metadata": {
        "id": "SulA6kje9UxB",
        "colab_type": "code",
        "colab": {}
      },
      "source": [
        "# list_GMfile = np.array(['H-E12140'])\n",
        "list_GMfile = ['kobe', 'elsalvado', 'indiana', 'fairbank', 'nenana', 'tonalapa', 'taiwan_1', 'taiwan_2', 'kardista', 'santiago', 'lima', 'rarakau', 'simeon']\n",
        "list_GMfact = [0.5, 0.6, 0.7, 0.8, 0.9, 1.0, 1.1, 1.2, 1.3, 1.4, 1.5, 1.6, 1.7, 1.8, 1.9, 2.0]"
      ],
      "execution_count": null,
      "outputs": []
    },
    {
      "cell_type": "code",
      "metadata": {
        "id": "ypyZnIUY9U0n",
        "colab_type": "code",
        "colab": {}
      },
      "source": [
        "GMfile = []\n",
        "for i in range(len(list_GMfile)):\n",
        "    GMfile += [list_GMfile[i]] * len(list_GMfact)\n",
        "\n",
        "GMfact = list_GMfact * len(list_GMfile)\n"
      ],
      "execution_count": null,
      "outputs": []
    },
    {
      "cell_type": "code",
      "metadata": {
        "id": "W1P2-thj9U3v",
        "colab_type": "code",
        "colab": {}
      },
      "source": [
        "def _batch_single_entity(input_data, params):\n",
        "  data_steps = len(input_data)\n",
        "  lags = params['total_time_steps']\n",
        "  x = input_data.values\n",
        "  if data_steps >= lags:\n",
        "    return np.stack([x[i:data_steps - (lags - 1) + i, :] for i in range(lags)], axis=1)\n"
      ],
      "execution_count": null,
      "outputs": []
    },
    {
      "cell_type": "code",
      "metadata": {
        "id": "DLgsKgEQ9U6_",
        "colab_type": "code",
        "colab": {}
      },
      "source": [
        "def df_to_data(df, col_mappings, params):\n",
        "    data_map = {}\n",
        "    for k in col_mappings:\n",
        "      cols = col_mappings[k]\n",
        "      arr = _batch_single_entity(df[cols].copy(), params)\n",
        "\n",
        "      if k not in data_map:\n",
        "        data_map[k] = [arr]\n",
        "      else:\n",
        "        data_map[k].append(arr)\n",
        "\n",
        "    # Combine all data\n",
        "    for k in data_map:\n",
        "      data_map[k] = np.concatenate(data_map[k], axis=0)\n",
        "\n",
        "    num_encoder_steps = params['num_encoder_steps']\n",
        "    data_map['outputs'] = data_map['outputs'][:, num_encoder_steps:, :]\n",
        "    \n",
        "    return data_map\n"
      ],
      "execution_count": null,
      "outputs": []
    },
    {
      "cell_type": "code",
      "metadata": {
        "id": "Jq7nD7YNEfxm",
        "colab_type": "code",
        "colab": {}
      },
      "source": [
        "exclude = [94, 95, 144, 145, 146, 147, 148, 149, 150, 151, 152, 153, 154, 155, 156, 157, 158, 159]\n",
        "\n",
        "col_mappings = {\n",
        "  'identifier': ['id'],\n",
        "  'outputs': [1],\n",
        "  'inputs': [1, 15],\n",
        "  # 'inputs': [1, 2, 12, 15],\n",
        "  }\n"
      ],
      "execution_count": null,
      "outputs": []
    },
    {
      "cell_type": "code",
      "metadata": {
        "id": "vCnNnPEYFaXZ",
        "colab_type": "code",
        "colab": {}
      },
      "source": [
        "def get_simulate(id, params):\n",
        "  df = pd.read_csv(f'{GMfile[id]}.g3', sep=' ', header=None)\n",
        "  Ncol = len(list(df))\n",
        "  g = np.zeros(len(df)*Ncol)\n",
        "  for i in range(Ncol):\n",
        "      g[i::Ncol]=df[i]\n",
        "\n",
        "  g = g[~np.isnan(g)]\n",
        "  g = g[::2]*GMfact[id]\n",
        "  df = pd.read_csv(f'disp_{id}.out', sep=' ', header=None)\n",
        "  df = df[:3000]\n",
        "  df[15] = g\n",
        "  df['id'] = 'acc'\n",
        "\n",
        "  return df"
      ],
      "execution_count": null,
      "outputs": []
    },
    {
      "cell_type": "code",
      "metadata": {
        "id": "7aLXdAQvDoJI",
        "colab_type": "code",
        "colab": {}
      },
      "source": [
        "# Combine all df to calculate scaler\n",
        "df_all = pd.DataFrame()\n",
        "for i in range(100):\n",
        "    if i not in exclude:\n",
        "        df = pd.read_csv(f'{GMfile[i]}.g3', sep=' ', header=None)\n",
        "        Ncol = len(list(df))\n",
        "        g = np.zeros(len(df)*Ncol)\n",
        "        for i in range(Ncol):\n",
        "            g[i::Ncol]=df[i]\n",
        "\n",
        "        g = g[~np.isnan(g)]\n",
        "        g = g[::2]*GMfact[i]\n",
        "        df = pd.read_csv(f'disp_{i}.out', sep=' ', header=None)\n",
        "        df = df[:3000]\n",
        "        df[15] = g\n",
        "        df['id'] = 'acc'       \n",
        "        df_all=pd.concat([df_all, df])\n",
        "\n",
        "real_scalers = sklearn.preprocessing.StandardScaler().fit(df_all[col_mappings['inputs']].values)\n",
        "output_scalers = sklearn.preprocessing.StandardScaler().fit(df_all[col_mappings['outputs']].values)"
      ],
      "execution_count": null,
      "outputs": []
    },
    {
      "cell_type": "code",
      "metadata": {
        "id": "cMg5sra49U-K",
        "colab_type": "code",
        "colab": {}
      },
      "source": [
        "# scaled train data, e.g.: 'inputs': (242649, 550, 4)\n",
        "params = {}\n",
        "params['total_time_steps']  = 550\n",
        "params['num_encoder_steps'] = 500\n",
        "\n",
        "i = 0\n",
        "df = get_simulate(i, params)\n",
        "df[col_mappings['inputs']] = real_scalers.transform(df[col_mappings['inputs']].values)\n",
        "data_all = df_to_data(df, col_mappings, params)\n"
      ],
      "execution_count": null,
      "outputs": []
    },
    {
      "cell_type": "code",
      "metadata": {
        "id": "p9-rTRSn94vL",
        "colab_type": "code",
        "colab": {
          "base_uri": "https://localhost:8080/",
          "height": 100
        },
        "outputId": "62572cc1-f832-4539-9738-ee8435bc8236"
      },
      "source": [
        "for i in range(100):\n",
        "    if i not in exclude:\n",
        "        if i%20 == 0:\n",
        "          print(i)        \n",
        "\n",
        "        df = get_simulate(i, params)\n",
        "        df[col_mappings['inputs']] = real_scalers.transform(df[col_mappings['inputs']].values)\n",
        "        data_map = df_to_data(df, col_mappings, params)\n",
        "        data_all['inputs'] = np.concatenate((data_all['inputs'], data_map['inputs']), axis = 0)\n",
        "        data_all['outputs'] = np.concatenate((data_all['outputs'], data_map['outputs']), axis = 0)"
      ],
      "execution_count": null,
      "outputs": [
        {
          "output_type": "stream",
          "text": [
            "0\n",
            "20\n",
            "40\n",
            "60\n",
            "80\n"
          ],
          "name": "stdout"
        }
      ]
    },
    {
      "cell_type": "code",
      "metadata": {
        "id": "10WUhtYbN7Jm",
        "colab_type": "code",
        "colab": {}
      },
      "source": [
        "Nsplit = 5000\n",
        "data, labels = data_all['inputs'][:-Nsplit], data_all['outputs'][:-Nsplit] \n",
        "val_data, val_labels = data_all['inputs'][-Nsplit:], data_all['outputs'][-Nsplit:] "
      ],
      "execution_count": null,
      "outputs": []
    },
    {
      "cell_type": "code",
      "metadata": {
        "id": "ynrMwU9EY1t1",
        "colab_type": "code",
        "colab": {}
      },
      "source": [
        "N_input_size = len(col_mappings['inputs'])\n",
        "\n",
        "params = {\n",
        " 'dropout_rate': 0.1,\n",
        " 'early_stopping_patience': 5,\n",
        " 'hidden_layer_size': 160,\n",
        " 'input_obs_loc': [0],\n",
        " 'input_size': N_input_size,\n",
        "#  'known_regular_inputs': list(range(1,N_input_size)),\n",
        " 'known_regular_inputs': [N_input_size-1],\n",
        " 'learning_rate': 0.001,\n",
        " 'max_gradient_norm': 0.01,\n",
        " 'minibatch_size': 256,\n",
        " 'model_folder': 'electricity/saved_models/electricity/fixed',\n",
        " 'multiprocessing_workers': 5,\n",
        " 'num_encoder_steps': 500,\n",
        " 'num_epochs': 100,\n",
        " 'num_heads': 4,\n",
        " 'output_size': 1,\n",
        " 'stack_size': 1,\n",
        "  'total_time_steps': 550}"
      ],
      "execution_count": null,
      "outputs": []
    },
    {
      "cell_type": "code",
      "metadata": {
        "id": "PGWF26V0XU1o",
        "colab_type": "code",
        "colab": {}
      },
      "source": [
        "name, output_folder, use_tensorflow_with_gpu = 'ex1', 'ex1', 'yes'\n",
        "default_keras_session = tf.keras.backend.get_session()\n",
        "os.environ['CUDA_DEVICE_ORDER'] = 'PCI_BUS_ID'\n",
        "os.environ['CUDA_VISIBLE_DEVICES'] = str(0)\n",
        "tf_config = tf.compat.v1.ConfigProto(log_device_placement=False)\n",
        "tf_config.gpu_options.allow_growth = True\n",
        "tf.global_variables_initializer()\n"
      ],
      "execution_count": null,
      "outputs": []
    },
    {
      "cell_type": "code",
      "metadata": {
        "id": "KeWOsfITXUxP",
        "colab_type": "code",
        "colab": {}
      },
      "source": [
        "all_callbacks = [\n",
        "    tf.keras.callbacks.EarlyStopping( monitor='val_loss', patience=params['early_stopping_patience'], min_delta=1e-4),\n",
        "    tf.keras.callbacks.ModelCheckpoint( filepath=os.path.join(params['model_folder'], 'bbb.check'), monitor='val_loss',\n",
        "        save_best_only=True, save_weights_only=True),\n",
        "    tf.keras.callbacks.TerminateOnNaN(),\n",
        "    tf.keras.callbacks.ProgbarLogger(count_mode=\"samples\", stateful_metrics=None)    ]\n"
      ],
      "execution_count": null,
      "outputs": []
    },
    {
      "cell_type": "code",
      "metadata": {
        "id": "MUZ6aNWPXPIQ",
        "colab_type": "code",
        "colab": {}
      },
      "source": [
        "def get_active_locations(x):\n",
        "  \"\"\"Formats sample weights for Keras training.\"\"\"\n",
        "  return (np.sum(x, axis=-1) > 0.0) * 1.0\n"
      ],
      "execution_count": null,
      "outputs": []
    },
    {
      "cell_type": "code",
      "metadata": {
        "id": "5KGV41fDXPQc",
        "colab_type": "code",
        "colab": {}
      },
      "source": [
        "all_inputs = tf.keras.layers.Input(shape=(params['total_time_steps'], params['input_size'],))\n"
      ],
      "execution_count": null,
      "outputs": []
    },
    {
      "cell_type": "code",
      "metadata": {
        "id": "uzWIacWqXPMj",
        "colab_type": "code",
        "colab": {}
      },
      "source": [
        "def convert_real_to_embedding(x):\n",
        "  return tf.keras.layers.TimeDistributed(tf.keras.layers.Dense(params['hidden_layer_size']))(x)\n",
        "\n"
      ],
      "execution_count": null,
      "outputs": []
    },
    {
      "cell_type": "code",
      "metadata": {
        "id": "ryF2TcDNUsav",
        "colab_type": "code",
        "colab": {}
      },
      "source": [
        "def gated_residual_network(x, hidden_layer_size, output_size=None, dropout_rate=None,\n",
        "                           use_time_distributed=True, additional_context=None, return_gate=False):\n",
        "\n",
        "  # Setup skip connection\n",
        "  if output_size is None:\n",
        "    output_size = hidden_layer_size\n",
        "    skip = x\n",
        "  else:\n",
        "    linear = tf.keras.layers.Dense(output_size)\n",
        "    if use_time_distributed:\n",
        "      linear = tf.keras.layers.TimeDistributed(linear)\n",
        "    skip = linear(x)\n",
        "\n",
        "  # Apply feedforward network\n",
        "  hidden = linear_layer( hidden_layer_size, activation=None, use_time_distributed=use_time_distributed)(x) \n",
        "  hidden = tf.keras.layers.Activation('elu')(hidden)\n",
        "  hidden = linear_layer(hidden_layer_size, activation=None, use_time_distributed=use_time_distributed)(hidden)\n",
        "  gating_layer, gate = apply_gating_layer( hidden,output_size,dropout_rate=dropout_rate, \n",
        "                                          use_time_distributed=use_time_distributed, activation=None)\n",
        "\n",
        "  if return_gate:\n",
        "    return add_and_norm([skip, gating_layer]), gate\n",
        "  else:\n",
        "    return add_and_norm([skip, gating_layer])\n"
      ],
      "execution_count": null,
      "outputs": []
    },
    {
      "cell_type": "code",
      "metadata": {
        "id": "_697BN5CUsiP",
        "colab_type": "code",
        "colab": {}
      },
      "source": [
        "def linear_layer(size, activation=None, use_time_distributed=False, use_bias=True):\n",
        "\n",
        "  linear = tf.keras.layers.Dense(size, activation=activation, use_bias=use_bias)\n",
        "  if use_time_distributed:\n",
        "    linear = tf.keras.layers.TimeDistributed(linear)\n",
        "  return linear"
      ],
      "execution_count": null,
      "outputs": []
    },
    {
      "cell_type": "code",
      "metadata": {
        "id": "Z5b5SIJNUstK",
        "colab_type": "code",
        "colab": {}
      },
      "source": [
        "def apply_gating_layer(x, hidden_layer_size, dropout_rate=None, use_time_distributed=True, activation=None):\n",
        "\n",
        "  if dropout_rate is not None:\n",
        "    x = tf.keras.layers.Dropout(dropout_rate)(x)\n",
        "\n",
        "  if use_time_distributed:\n",
        "    activation_layer = tf.keras.layers.TimeDistributed(\n",
        "        tf.keras.layers.Dense(hidden_layer_size, activation=activation))(x)\n",
        "    \n",
        "    gated_layer = tf.keras.layers.TimeDistributed(\n",
        "        tf.keras.layers.Dense(hidden_layer_size, activation='sigmoid'))(x)\n",
        "  \n",
        "  else:\n",
        "    activation_layer = tf.keras.layers.Dense(\n",
        "        hidden_layer_size, activation=activation)(x)\n",
        "\n",
        "    gated_layer = tf.keras.layers.Dense(\n",
        "        hidden_layer_size, activation='sigmoid')(x)\n",
        "\n",
        "  return tf.keras.layers.Multiply()([activation_layer,gated_layer]), gated_layer\n"
      ],
      "execution_count": null,
      "outputs": []
    },
    {
      "cell_type": "code",
      "metadata": {
        "id": "iF1xcpywUsqg",
        "colab_type": "code",
        "colab": {}
      },
      "source": [
        "def add_and_norm(x_list):\n",
        "  tmp = tf.keras.layers.Add()(x_list)\n",
        "  tmp = tf.keras.layers.LayerNormalization()(tmp)\n",
        "  return tmp\n"
      ],
      "execution_count": null,
      "outputs": []
    },
    {
      "cell_type": "code",
      "metadata": {
        "id": "y3n6kR4BUsoa",
        "colab_type": "code",
        "colab": {}
      },
      "source": [
        "def get_decoder_mask(self_attn_inputs):\n",
        "  len_s = tf.shape(self_attn_inputs)[1]\n",
        "  bs = tf.shape(self_attn_inputs)[:1]  \n",
        "  mask = tf.keras.backend.cumsum(tf.eye(len_s, batch_shape=bs), 1)\n",
        "  return mask\n"
      ],
      "execution_count": null,
      "outputs": []
    },
    {
      "cell_type": "code",
      "metadata": {
        "id": "2gPWn8eoUsmJ",
        "colab_type": "code",
        "colab": {}
      },
      "source": [
        "num_encoder_steps = int(params['num_encoder_steps'])\n",
        "output_size = int(params['output_size'])\n",
        "quantiles = [0.1, 0.5, 0.9]\n"
      ],
      "execution_count": null,
      "outputs": []
    },
    {
      "cell_type": "code",
      "metadata": {
        "id": "qfZb6wYUUsfI",
        "colab_type": "code",
        "colab": {}
      },
      "source": [
        "def tensorflow_quantile_loss(y, y_pred, quantile):\n",
        "  prediction_underflow = y - y_pred\n",
        "  q_loss = quantile * tf.maximum(prediction_underflow, 0.) + (\n",
        "      1. - quantile) * tf.maximum(-prediction_underflow, 0.)\n",
        "\n",
        "  return tf.reduce_sum(q_loss, axis=-1)"
      ],
      "execution_count": null,
      "outputs": []
    },
    {
      "cell_type": "code",
      "metadata": {
        "id": "4CQ2NKM3NUD-",
        "colab_type": "code",
        "colab": {}
      },
      "source": [
        "class QuantileLossCalculator(object):\n",
        "  def __init__(self, quantiles):\n",
        "    self.quantiles = quantiles\n",
        "\n",
        "  def quantile_loss(self, a, b):\n",
        "    quantiles_used = set(self.quantiles)\n",
        "\n",
        "    loss = 0.\n",
        "    for i, quantile in enumerate(valid_quantiles):\n",
        "      if quantile in quantiles_used:\n",
        "        loss += tensorflow_quantile_loss(\n",
        "            a[Ellipsis, output_size * i:output_size * (i + 1)],\n",
        "            b[Ellipsis, output_size * i:output_size * (i + 1)], quantile)\n",
        "    return loss"
      ],
      "execution_count": null,
      "outputs": []
    },
    {
      "cell_type": "code",
      "metadata": {
        "id": "nNrwy4zWNUG1",
        "colab_type": "code",
        "colab": {}
      },
      "source": [
        "max_gradient_norm = float(params['max_gradient_norm'])\n",
        "learning_rate = float(params['learning_rate'])\n",
        "adam = tf.keras.optimizers.Adam(lr=learning_rate, clipnorm=max_gradient_norm)\n",
        "valid_quantiles = quantiles\n",
        "quantile_loss = QuantileLossCalculator(valid_quantiles).quantile_loss\n",
        "minibatch_size = int(params['minibatch_size'])\n",
        "n_multiprocessing_workers = int(params['multiprocessing_workers'])"
      ],
      "execution_count": null,
      "outputs": []
    },
    {
      "cell_type": "code",
      "metadata": {
        "id": "KWPUH-LaNUKD",
        "colab_type": "code",
        "colab": {}
      },
      "source": [
        "def temp(all_inputs, params):\n",
        "  time_steps = int(params['total_time_steps'])\n",
        "  combined_input_size = int(params['input_size'])\n",
        "  encoder_steps = int(params['num_encoder_steps'])\n",
        "  hidden_layer_size = int(params['hidden_layer_size'])\n",
        "  _known_regular_input_idx = json.loads(str(params['known_regular_inputs']))\n",
        "  dropout_rate = float(params['dropout_rate'])\n",
        "  input_size = int(params['input_size'])\n",
        "  num_regular_variables = input_size \n",
        "\n",
        "  regular_inputs = all_inputs[:, :, :num_regular_variables]\n",
        "  # Targets\n",
        "  _input_obs_loc = json.loads(str(params['input_obs_loc']))\n",
        "  obs_inputs = tf.keras.backend.stack([\n",
        "  convert_real_to_embedding(regular_inputs[Ellipsis, i:i + 1]) for i in _input_obs_loc], axis=-1)\n",
        "  unknown_inputs = []\n",
        "  for i in range(regular_inputs.shape[-1]):\n",
        "    if i not in _known_regular_input_idx and i not in _input_obs_loc:\n",
        "      e = convert_real_to_embedding(regular_inputs[Ellipsis, i:i + 1])\n",
        "      unknown_inputs.append(e)\n",
        "\n",
        "  known_regular_inputs = [\n",
        "      convert_real_to_embedding(regular_inputs[Ellipsis, i:i + 1])\n",
        "      for i in _known_regular_input_idx]\n",
        "\n",
        "  known_combined_layer = tf.keras.backend.stack(known_regular_inputs, axis=-1)\n",
        "  historical_inputs = tf.keras.backend.concatenate([known_combined_layer[:, :encoder_steps, :], obs_inputs[:, :encoder_steps, :]],axis=-1)\n",
        "  future_inputs = known_combined_layer[:, encoder_steps:, :]\n",
        "  _, time_steps, embedding_dim, num_inputs = historical_inputs.get_shape().as_list()\n",
        "  flatten = tf.keras.backend.reshape(historical_inputs, [-1, time_steps, embedding_dim * num_inputs])\n",
        "  mlp_outputs, _ = gated_residual_network( flatten, hidden_layer_size, output_size=num_inputs, dropout_rate= dropout_rate,\n",
        "            use_time_distributed=True, return_gate=True)\n",
        "\n",
        "  sparse_weights = tf.keras.layers.Activation('softmax')(mlp_outputs)\n",
        "  sparse_weights = tf.expand_dims(sparse_weights, axis=2)\n",
        "\n",
        "  trans_emb_list = []\n",
        "  for i in range(num_inputs):\n",
        "    grn_output = gated_residual_network( historical_inputs[Ellipsis, i], hidden_layer_size, dropout_rate=dropout_rate,\n",
        "        use_time_distributed=True)\n",
        "    trans_emb_list.append(grn_output)\n",
        "\n",
        "  transformed_embedding = tf.keras.backend.stack(trans_emb_list, axis=-1)\n",
        "  combined = tf.keras.layers.Multiply()([sparse_weights, transformed_embedding])\n",
        "  temporal_ctx = tf.keras.backend.sum(combined, axis=-1)\n",
        "  historical_features, historical_flags = temporal_ctx, sparse_weights\n",
        "\n",
        "  _, time_steps, embedding_dim, num_inputs = future_inputs.get_shape().as_list()\n",
        "  flatten = tf.keras.backend.reshape(future_inputs, [-1, time_steps, embedding_dim * num_inputs])\n",
        "  \n",
        "  mlp_outputs, _ = gated_residual_network(flatten,hidden_layer_size, output_size=num_inputs,dropout_rate=dropout_rate,\n",
        "            use_time_distributed=True, return_gate=True)\n",
        "\n",
        "  sparse_weights = tf.keras.layers.Activation('softmax')(mlp_outputs)\n",
        "  sparse_weights = tf.expand_dims(sparse_weights, axis=2)\n",
        "\n",
        "  trans_emb_list = []\n",
        "  for i in range(num_inputs):\n",
        "    grn_output = gated_residual_network( future_inputs[Ellipsis, i], hidden_layer_size, dropout_rate=dropout_rate,\n",
        "        use_time_distributed=True)\n",
        "    trans_emb_list.append(grn_output)\n",
        "\n",
        "  transformed_embedding = tf.keras.backend.stack(trans_emb_list, axis=-1)\n",
        "  combined = tf.keras.layers.Multiply()([sparse_weights, transformed_embedding])\n",
        "  temporal_ctx = tf.keras.backend.sum(combined, axis=-1)\n",
        "  future_features, future_flags = temporal_ctx, sparse_weights\n",
        "  history_lstm, state_h, state_c = tf.compat.v1.keras.layers.CuDNNLSTM(hidden_layer_size, return_sequences=True, return_state=True, stateful=False)(historical_features)\n",
        "  future_lstm = tf.compat.v1.keras.layers.CuDNNLSTM(hidden_layer_size, return_sequences=True, return_state=False, stateful=False)(future_features, initial_state=[state_h, state_c])\n",
        "  lstm_layer = tf.keras.backend.concatenate([history_lstm, future_lstm], axis=1)\n",
        "  lstm_layer, _ = apply_gating_layer(lstm_layer, hidden_layer_size, dropout_rate, activation=None)\n",
        "  input_embeddings = tf.keras.backend.concatenate([historical_features, future_features], axis=1)\n",
        "  temporal_feature_layer = add_and_norm([lstm_layer, input_embeddings])\n",
        "  enriched, _ = gated_residual_network(temporal_feature_layer, hidden_layer_size, dropout_rate=dropout_rate,\n",
        "          use_time_distributed=True, return_gate=True)\n",
        "\n",
        "  # Attention\n",
        "  num_heads = int(params['num_heads'])\n",
        "  mask = get_decoder_mask(enriched)\n",
        "  heads = []\n",
        "  d_k = d_v = hidden_layer_size // num_heads\n",
        "\n",
        "  for i in range(num_heads):\n",
        "    q = tf.keras.layers.Dense(d_k, use_bias=False)(enriched)\n",
        "    k = tf.keras.layers.Dense(d_k, use_bias=False)(enriched)\n",
        "    v = tf.keras.layers.Dense(d_k, use_bias=False)(enriched) \n",
        "    temper = tf.sqrt(tf.cast(tf.shape(k)[-1], dtype='float32'))\n",
        "    attn = tf.keras.layers.Lambda(lambda x :  tf.keras.backend.batch_dot(x[0], x[1], axes=[2, 2]) )([q, k])  \n",
        "    attn = attn / temper\n",
        "\n",
        "    if mask is not None:\n",
        "      mmask = tf.keras.layers.Lambda(lambda x: (-1e+9) * (1. - tf.keras.backend.cast(x, 'float32')))(mask)  # setting to infinity\n",
        "      attn = tf.keras.layers.Add()([attn, mmask])\n",
        "\n",
        "    attn = tf.keras.layers.Activation('softmax')(attn)\n",
        "    attn = tf.keras.layers.Dropout(0.0)(attn)\n",
        "    head = tf.keras.layers.Lambda(lambda x: tf.keras.backend.batch_dot(x[0], x[1]))([attn, v]) \n",
        "    head_dropout = tf.keras.layers.Dropout(dropout_rate)(head)\n",
        "    heads.append(head_dropout)\n",
        "    \n",
        "  head = tf.keras.backend.stack(heads) if num_heads > 1 else heads[0]\n",
        "  x = tf.keras.backend.mean(head, axis=0) if num_heads > 1 else head\n",
        "  x = tf.keras.layers.Dense(hidden_layer_size, use_bias=False)(x)\n",
        "  x = tf.keras.layers.Dropout(dropout_rate)(x)  # output dropout\n",
        "  x, _ = apply_gating_layer(x,hidden_layer_size,dropout_rate=dropout_rate,activation=None)\n",
        "  x = add_and_norm([x, enriched])\n",
        "  decoder = gated_residual_network(x, hidden_layer_size, dropout_rate=dropout_rate, use_time_distributed=True)\n",
        "  decoder, _ = apply_gating_layer(decoder, hidden_layer_size, activation=None)\n",
        "  transformer_layer = add_and_norm([decoder, temporal_feature_layer])\n",
        "  outputs = transformer_layer[Ellipsis, num_encoder_steps:, :]\n",
        "  outputs = tf.keras.layers.TimeDistributed( tf.keras.layers.Dense(output_size * len(quantiles))) (outputs)\n",
        "\n",
        "  return outputs\n"
      ],
      "execution_count": null,
      "outputs": []
    },
    {
      "cell_type": "code",
      "metadata": {
        "id": "oWYrHLRjA405",
        "colab_type": "code",
        "colab": {
          "base_uri": "https://localhost:8080/",
          "height": 33
        },
        "outputId": "a7c508c7-c8b7-4c98-84fb-a4b3dca57b8e"
      },
      "source": [
        "# Nsplit = 1000\n",
        "data, labels = data_all['inputs'][::10], data_all['outputs'][::10] \n",
        "val_data, val_labels = data_all['inputs'][5::100], data_all['outputs'][5::100] \n",
        "np.shape(data)"
      ],
      "execution_count": null,
      "outputs": [
        {
          "output_type": "execute_result",
          "data": {
            "text/plain": [
              "(24265, 550, 2)"
            ]
          },
          "metadata": {
            "tags": []
          },
          "execution_count": 38
        }
      ]
    },
    {
      "cell_type": "code",
      "metadata": {
        "id": "ypASrkgANUNR",
        "colab_type": "code",
        "colab": {}
      },
      "source": [
        "num_epochs = 10\n",
        "all_inputs = tf.keras.layers.Input(shape=(params['total_time_steps'], params['input_size'],))\n",
        "outputs = temp(all_inputs, params)\n",
        "model = tf.keras.Model(inputs=all_inputs, outputs=outputs)\n",
        "model.compile(loss=quantile_loss, optimizer=adam, sample_weight_mode='temporal')\n"
      ],
      "execution_count": null,
      "outputs": []
    },
    {
      "cell_type": "code",
      "metadata": {
        "id": "FKyJ40NrApoB",
        "colab_type": "code",
        "colab": {}
      },
      "source": [
        "all_callbacks = [\n",
        "    # tf.keras.callbacks.EarlyStopping( monitor='val_loss', patience=params['early_stopping_patience'], min_delta=1e-4),\n",
        "    tf.keras.callbacks.ModelCheckpoint( filepath=os.path.join(params['model_folder'], 'ttt.check'), monitor='val_loss',\n",
        "        save_best_only=True, save_weights_only=True),\n",
        "    tf.keras.callbacks.TerminateOnNaN(),\n",
        "    tf.keras.callbacks.CSVLogger('log.csv', separator=\",\", append=False),\n",
        "    # tf.keras.callbacks.ProgbarLogger(count_mode=\"samples\", stateful_metrics=None)  \n",
        "      ]"
      ],
      "execution_count": null,
      "outputs": []
    },
    {
      "cell_type": "markdown",
      "metadata": {
        "id": "QSFYiuRPo2Ac",
        "colab_type": "text"
      },
      "source": [
        "## TRAIN"
      ]
    },
    {
      "cell_type": "code",
      "metadata": {
        "id": "87Swi0Z6bz7g",
        "colab_type": "code",
        "colab": {}
      },
      "source": [
        "# hist= model.fit(\n",
        "#         x=data,\n",
        "#         y=np.concatenate([labels, labels, labels], axis=-1),\n",
        "#         epochs=10,\n",
        "#         batch_size=128,\n",
        "#         validation_data=(val_data, np.concatenate([val_labels, val_labels, val_labels], axis=-1)),\n",
        "#         callbacks=all_callbacks,\n",
        "#         shuffle=True,\n",
        "#         verbose = 1,\n",
        "#         use_multiprocessing=True,\n",
        "#         workers=n_multiprocessing_workers)"
      ],
      "execution_count": null,
      "outputs": []
    },
    {
      "cell_type": "code",
      "metadata": {
        "id": "R-8DvWi1yD8m",
        "colab_type": "code",
        "colab": {}
      },
      "source": [
        ""
      ],
      "execution_count": null,
      "outputs": []
    },
    {
      "cell_type": "markdown",
      "metadata": {
        "id": "Gz5Qi2r1M3IY",
        "colab_type": "text"
      },
      "source": [
        "## Run statistic"
      ]
    },
    {
      "cell_type": "code",
      "metadata": {
        "id": "Z8yZlzxFlW32",
        "colab_type": "code",
        "colab": {
          "base_uri": "https://localhost:8080/",
          "height": 33
        },
        "outputId": "254d7efd-11b6-472e-c95a-81ea366ee647"
      },
      "source": [
        "model.load_weights(filepath=os.path.join(params['model_folder'], 'eee.check')) "
      ],
      "execution_count": null,
      "outputs": [
        {
          "output_type": "execute_result",
          "data": {
            "text/plain": [
              "<tensorflow.python.training.tracking.util.CheckpointLoadStatus at 0x7f4cea2b1f98>"
            ]
          },
          "metadata": {
            "tags": []
          },
          "execution_count": 41
        }
      ]
    },
    {
      "cell_type": "code",
      "metadata": {
        "id": "UHdK_dpc4UCK",
        "colab_type": "code",
        "colab": {
          "base_uri": "https://localhost:8080/",
          "height": 33
        },
        "outputId": "063efaf9-bb64-4292-cc88-d2c02b1e5fc4"
      },
      "source": [
        "id = 130\n",
        "print(GMfact[id], GMfile[id])\n",
        "df = get_simulate(id, params)\n",
        "df[col_mappings['inputs']] = real_scalers.transform(df[col_mappings['inputs']].values)\n",
        "data_test = df_to_data(df, col_mappings, params)\n",
        "\n",
        "x_actual  =  data_test['inputs'][:2500:50]\n",
        "y_actual=  data_test['outputs'][:2500:50]\n"
      ],
      "execution_count": null,
      "outputs": [
        {
          "output_type": "stream",
          "text": [
            "0.7 kardista\n"
          ],
          "name": "stdout"
        }
      ]
    },
    {
      "cell_type": "code",
      "metadata": {
        "id": "hj4oJYfGM52S",
        "colab_type": "code",
        "colab": {}
      },
      "source": [
        "motion = np.empty(3000)\n",
        "y_one_all = np.empty(3000)\n",
        "y_rep_all = np.empty(3000)\n",
        "y_true  = np.empty(3000)\n",
        "\n",
        "motion[0:500]  =   x_actual[0,0:500,1]\n",
        "motion[500:] = x_actual[:,-50:,1].reshape(-1)\n",
        "\n",
        "y_one_all[0:500] = x_actual[0,0:500,0]\n",
        "y_rep_all[0:500] = x_actual[0,0:500,0]\n",
        "y_true[0:500] = x_actual[0,0:500,0]\n",
        "\n",
        "y_one_all[500:] = x_actual[:,-50:,0].reshape(-1)\n",
        "y_rep_all[500:] = x_actual[:,-50:,0].reshape(-1)\n",
        "y_true[500:] = x_actual[:,-50:,0].reshape(-1)\n",
        "\n",
        "x_hybrid = x_actual[0:1,:,:]\n"
      ],
      "execution_count": null,
      "outputs": []
    },
    {
      "cell_type": "code",
      "metadata": {
        "id": "-0kyxG71Ng2x",
        "colab_type": "code",
        "colab": {}
      },
      "source": [
        "for j in range(1,50):\n",
        "  idx = 500 + 50*j\n",
        "  x_hybrid[0,0:500,0] = y_rep_all[idx - 500 : idx]\n",
        "  x_hybrid[0,:,1] = motion[idx-500 : idx+50]\n",
        "  y_pred_rep = model.predict(x_hybrid, workers=16, use_multiprocessing=True, batch_size=params['minibatch_size'])\n",
        "  y_pred_one = model.predict(x_actual[j:j+1,:,:], workers=16, use_multiprocessing=True, batch_size=params['minibatch_size'])\n",
        "  \n",
        "  y_one_all[idx : idx+50] = y_pred_one[0,:,1]\n",
        "  y_rep_all[idx : idx+50] = y_pred_rep[0,:,1]\n"
      ],
      "execution_count": null,
      "outputs": []
    },
    {
      "cell_type": "code",
      "metadata": {
        "id": "HgBkKr8AqTiG",
        "colab_type": "code",
        "colab": {}
      },
      "source": [
        "def cal_distance(id=130):\n",
        "\n",
        "  print(GMfact[id], GMfile[id])\n",
        "  df = get_simulate(id, params)\n",
        "  df[col_mappings['inputs']] = real_scalers.transform(df[col_mappings['inputs']].values)\n",
        "  data_test = df_to_data(df, col_mappings, params)\n",
        "  x_actual  =  data_test['inputs'][:2500:50]\n",
        "  y_actual=  data_test['outputs'][:2500:50]\n",
        "\n",
        "\n",
        "  motion = np.empty(3000)\n",
        "  y_one_all = np.empty(3000)\n",
        "  y_rep_all = np.empty(3000)\n",
        "  y_true  = np.empty(3000)\n",
        "\n",
        "  motion[0:500]  =   x_actual[0,0:500,1]\n",
        "  motion[500:] = x_actual[:,-50:,1].reshape(-1)\n",
        "  y_one_all[0:500] = x_actual[0,0:500,0]\n",
        "  y_rep_all[0:500] = x_actual[0,0:500,0]\n",
        "  y_true[0:500] = x_actual[0,0:500,0]\n",
        "  y_one_all[500:] = x_actual[:,-50:,0].reshape(-1)\n",
        "  y_rep_all[500:] = x_actual[:,-50:,0].reshape(-1)\n",
        "  y_true[500:] = x_actual[:,-50:,0].reshape(-1)\n",
        "\n",
        "  x_hybrid = x_actual[0:1,:,:].copy()\n",
        "\n",
        "  for j in range(1,50):\n",
        "    idx = 500 + 50*j\n",
        "    # x_hybrid[0,0:500,0] = y_rep_all[idx - 500 : idx]\n",
        "    x_hybrid[0,0:500,0] = y_true[idx - 500 : idx]\n",
        "    x_hybrid[0,:,1] = motion[idx-500 : idx+50]\n",
        "    y_pred_rep = model.predict(x_hybrid, workers=16, use_multiprocessing=True, batch_size=params['minibatch_size'])\n",
        "    y_rep_all[idx : idx+50] = y_pred_rep[0,:,1]\n",
        "\n",
        "  y_rep_scale = output_scalers.inverse_transform(y_rep_all) * 20\n",
        "  y_true_scale = output_scalers.inverse_transform(y_true) * 20\n",
        "  dist_rep = dtw.distance(y_true_scale, y_rep_scale)\n",
        "\n",
        "\n",
        "  return dist_rep"
      ],
      "execution_count": null,
      "outputs": []
    },
    {
      "cell_type": "code",
      "metadata": {
        "id": "vNVPmxW0RXP3",
        "colab_type": "code",
        "colab": {
          "base_uri": "https://localhost:8080/",
          "height": 589
        },
        "outputId": "6a0d6361-0903-4dd7-c3c1-0bddb46bd966"
      },
      "source": [
        "list_dist = []\n",
        "for id in range(96,112):\n",
        "  dist = cal_distance(id)\n",
        "  print(dist)\n",
        "  list_dist.append(dist)\n",
        "\n",
        "print(list_dist)  "
      ],
      "execution_count": null,
      "outputs": [
        {
          "output_type": "stream",
          "text": [
            "0.5 taiwan_1\n",
            "4.018301879569754\n",
            "0.6 taiwan_1\n",
            "5.280346196431121\n",
            "0.7 taiwan_1\n",
            "6.379234970077403\n",
            "0.8 taiwan_1\n",
            "6.7475604439461785\n",
            "0.9 taiwan_1\n",
            "7.910226514717226\n",
            "1.0 taiwan_1\n",
            "8.320900934759084\n",
            "1.1 taiwan_1\n",
            "8.987901731738177\n",
            "1.2 taiwan_1\n",
            "9.705246968223523\n",
            "1.3 taiwan_1\n",
            "8.524492121947981\n",
            "1.4 taiwan_1\n",
            "8.858779718591974\n",
            "1.5 taiwan_1\n",
            "9.50333258201776\n",
            "1.6 taiwan_1\n",
            "10.463966297385673\n",
            "1.7 taiwan_1\n",
            "11.675675530138971\n",
            "1.8 taiwan_1\n",
            "12.236884377043088\n",
            "1.9 taiwan_1\n",
            "13.609932860154254\n",
            "2.0 taiwan_1\n",
            "13.061933332352098\n",
            "[4.018301879569754, 5.280346196431121, 6.379234970077403, 6.7475604439461785, 7.910226514717226, 8.320900934759084, 8.987901731738177, 9.705246968223523, 8.524492121947981, 8.858779718591974, 9.50333258201776, 10.463966297385673, 11.675675530138971, 12.236884377043088, 13.609932860154254, 13.061933332352098]\n"
          ],
          "name": "stdout"
        }
      ]
    },
    {
      "cell_type": "code",
      "metadata": {
        "id": "2xD1LTJ91Npz",
        "colab_type": "code",
        "colab": {
          "base_uri": "https://localhost:8080/",
          "height": 284
        },
        "outputId": "97a25264-c237-4b6f-e8a0-64690145a328"
      },
      "source": [
        "plt.plot(list_dist)"
      ],
      "execution_count": null,
      "outputs": [
        {
          "output_type": "execute_result",
          "data": {
            "text/plain": [
              "[<matplotlib.lines.Line2D at 0x7f896a870908>]"
            ]
          },
          "metadata": {
            "tags": []
          },
          "execution_count": 92
        },
        {
          "output_type": "display_data",
          "data": {
            "image/png": "[encoded data removed]",
            "text/plain": [
              "<Figure size 432x288 with 1 Axes>"
            ]
          },
          "metadata": {
            "tags": [],
            "needs_background": "light"
          }
        }
      ]
    },
    {
      "cell_type": "code",
      "metadata": {
        "id": "byPwYPpB1NmZ",
        "colab_type": "code",
        "colab": {}
      },
      "source": [
        ""
      ],
      "execution_count": null,
      "outputs": []
    },
    {
      "cell_type": "code",
      "metadata": {
        "id": "IFVGX0F0RXAv",
        "colab_type": "code",
        "colab": {
          "base_uri": "https://localhost:8080/",
          "height": 321
        },
        "outputId": "867ff94b-6c8e-450c-c706-ebc032c62a6d"
      },
      "source": [
        "list_dist = []\n",
        "for id in range(112,128):\n",
        "  dist = cal_distance(id)\n",
        "  list_dist.append(dist)\n",
        "\n",
        "print(list_dist)  "
      ],
      "execution_count": null,
      "outputs": [
        {
          "output_type": "stream",
          "text": [
            "0.5 taiwan_2\n",
            "0.6 taiwan_2\n",
            "0.7 taiwan_2\n",
            "0.8 taiwan_2\n",
            "0.9 taiwan_2\n",
            "1.0 taiwan_2\n",
            "1.1 taiwan_2\n",
            "1.2 taiwan_2\n",
            "1.3 taiwan_2\n",
            "1.4 taiwan_2\n",
            "1.5 taiwan_2\n",
            "1.6 taiwan_2\n",
            "1.7 taiwan_2\n",
            "1.8 taiwan_2\n",
            "1.9 taiwan_2\n",
            "2.0 taiwan_2\n",
            "[2.054328488074426, 2.2215107178034406, 2.4784151722160424, 2.9809828187358023, 3.721049297913569, 4.6370496895191975, 5.392125871483518, 6.694768623478841, 7.089146953508803, 7.91282516425949, 9.77392984843084, 12.480706790282078, 11.811113829212967, 14.175417705325048, 17.250875140067286, 20.436483191001976]\n"
          ],
          "name": "stdout"
        }
      ]
    },
    {
      "cell_type": "code",
      "metadata": {
        "id": "MUypbB8s30d_",
        "colab_type": "code",
        "colab": {
          "base_uri": "https://localhost:8080/",
          "height": 281
        },
        "outputId": "469c9fa4-f397-4636-b46a-90b016656aa6"
      },
      "source": [
        "list_dist = [.054328488074426, 2.2215107178034406, 2.4784151722160424, 2.9809828187358023, 3.721049297913569, 4.6370496895191975, 5.392125871483518, 6.694768623478841, 7.089146953508803, 7.91282516425949, 9.77392984843084, 12.480706790282078, 11.811113829212967, 14.175417705325048, 17.250875140067286, 20.436483191001976]\n",
        "plt.plot(list_dist)"
      ],
      "execution_count": null,
      "outputs": [
        {
          "output_type": "execute_result",
          "data": {
            "text/plain": [
              "[<matplotlib.lines.Line2D at 0x7f894baf7eb8>]"
            ]
          },
          "metadata": {
            "tags": []
          },
          "execution_count": 96
        },
        {
          "output_type": "display_data",
          "data": {
            "image/png": "[encoded data removed]",
            "text/plain": [
              "<Figure size 432x288 with 1 Axes>"
            ]
          },
          "metadata": {
            "tags": [],
            "needs_background": "light"
          }
        }
      ]
    },
    {
      "cell_type": "code",
      "metadata": {
        "id": "2pc-5fSHuDFO",
        "colab_type": "code",
        "colab": {
          "base_uri": "https://localhost:8080/",
          "height": 321
        },
        "outputId": "9e9c5008-dbd2-4841-c19d-4c54a1b9cb1a"
      },
      "source": [
        "list_dist = []\n",
        "for id in range(128,144):\n",
        "  dist = cal_distance(id)\n",
        "  list_dist.append(dist)\n",
        "\n",
        "print(list_dist)  "
      ],
      "execution_count": null,
      "outputs": [
        {
          "output_type": "stream",
          "text": [
            "0.5 kardista\n",
            "0.6 kardista\n",
            "0.7 kardista\n",
            "0.8 kardista\n",
            "0.9 kardista\n",
            "1.0 kardista\n",
            "1.1 kardista\n",
            "1.2 kardista\n",
            "1.3 kardista\n",
            "1.4 kardista\n",
            "1.5 kardista\n",
            "1.6 kardista\n",
            "1.7 kardista\n",
            "1.8 kardista\n",
            "1.9 kardista\n",
            "2.0 kardista\n",
            "[8.283910865007797, 8.974893434660826, 10.360014957223681, 10.72561212030189, 11.302655070740789, 13.08668739952727, 13.534383937894168, 14.288775605830594, 14.22816235976881, 19.290594701493795, 21.41455383812658, 23.399189151633333, 27.423913371390924, 32.581242217259195, 36.5210696851989, 47.51293552025351]\n"
          ],
          "name": "stdout"
        }
      ]
    },
    {
      "cell_type": "code",
      "metadata": {
        "id": "626wlVcvuDL9",
        "colab_type": "code",
        "colab": {
          "base_uri": "https://localhost:8080/",
          "height": 284
        },
        "outputId": "2406f48f-ad69-4f25-bacd-33e6bdeda666"
      },
      "source": [
        "plt.plot(list_dist)"
      ],
      "execution_count": null,
      "outputs": [
        {
          "output_type": "execute_result",
          "data": {
            "text/plain": [
              "[<matplotlib.lines.Line2D at 0x7f894bca9f28>]"
            ]
          },
          "metadata": {
            "tags": []
          },
          "execution_count": 95
        },
        {
          "output_type": "display_data",
          "data": {
            "image/png": "[encoded data removed]",
            "text/plain": [
              "<Figure size 432x288 with 1 Axes>"
            ]
          },
          "metadata": {
            "tags": [],
            "needs_background": "light"
          }
        }
      ]
    },
    {
      "cell_type": "code",
      "metadata": {
        "id": "ccYWFg8IuDJg",
        "colab_type": "code",
        "colab": {}
      },
      "source": [
        ""
      ],
      "execution_count": null,
      "outputs": []
    },
    {
      "cell_type": "code",
      "metadata": {
        "id": "FVbFV-uW3INS",
        "colab_type": "code",
        "colab": {}
      },
      "source": [
        "# ORIGIN\n",
        "a1=[4.018301879569754, 5.280346196431121, 6.379234970077403, 6.7475604439461785, 7.910226514717226, 8.320900934759084, 8.987901731738177, 9.705246968223523, 8.524492121947981, 8.858779718591974, 9.50333258201776, 10.463966297385673, 11.675675530138971, 12.236884377043088, 13.609932860154254, 13.061933332352098]\n",
        "a2=[2.054328488074426, 2.2215107178034406, 2.4784151722160424, 2.9809828187358023, 3.721049297913569, 4.6370496895191975, 5.392125871483518, 6.694768623478841, 7.089146953508803, 7.91282516425949, 9.77392984843084, 12.480706790282078, 11.811113829212967, 14.175417705325048, 17.250875140067286, 20.436483191001976]\n",
        "a3=[8.283910865007797, 8.974893434660826, 10.360014957223681, 10.72561212030189, 11.302655070740789, 13.08668739952727, 13.534383937894168, 14.288775605830594, 14.22816235976881, 19.290594701493795, 21.41455383812658, 23.399189151633333, 27.423913371390924, 32.581242217259195, 36.5210696851989, 47.51293552025351]"
      ],
      "execution_count": null,
      "outputs": []
    },
    {
      "cell_type": "code",
      "metadata": {
        "id": "PXaWLH9n-9JN",
        "colab_type": "code",
        "colab": {}
      },
      "source": [
        "# MAKE 1\n",
        "a1=[4.018301879569754, 5.280346196431121, 6.379234970077403, 6.7475604439461785, 7.910226514717226, 8.320900934759084, 8.987901731738177, 9.705246968223523, 8.524492121947981, 8.858779718591974, 9.50333258201776, 10.463966297385673, 11.675675530138971, 12.236884377043088, 13.609932860154254, 13.061933332352098]\n",
        "a2=[2.054328488074426, 2.2215107178034406, 2.4784151722160424, 2.9809828187358023, 3.721049297913569, 4.6370496895191975, 5.392125871483518, 6.694768623478841, 7.089146953508803, 7.91282516425949, 9.77392984843084, 12.480706790282078, 11.811113829212967, 14.175417705325048, 17.250875140067286, 20.436483191001976]\n",
        "a3=[8.283910865007797, 8.974893434660826, 10.360014957223681, 10.72561212030189, 11.302655070740789, 13.08668739952727, 13.534383937894168, 14.288775605830594, 14.22816235976881, 19.290594701493795, 21.41455383812658, 23.399189151633333, 27.423913371390924, 28.581242217259195, 32.5210696851989, 35.51293552025351]"
      ],
      "execution_count": null,
      "outputs": []
    },
    {
      "cell_type": "code",
      "metadata": {
        "id": "azOwapXT3IRo",
        "colab_type": "code",
        "colab": {}
      },
      "source": [
        "a1 = np.array(a1)\n",
        "a2 = np.array(a2)\n",
        "a3 = np.array(a3)"
      ],
      "execution_count": null,
      "outputs": []
    },
    {
      "cell_type": "code",
      "metadata": {
        "id": "xhIXwkzs3IKW",
        "colab_type": "code",
        "colab": {
          "base_uri": "https://localhost:8080/",
          "height": 281
        },
        "outputId": "48841b16-12db-49a4-8eca-c988ef1f716e"
      },
      "source": [
        "f = np.arange(0.5,2.1,0.1)\n",
        "plt.plot(f, a1_m)\n",
        "plt.plot(f, a2_m)\n",
        "plt.plot(f, a3_m)\n",
        "plt.legend(['Fairbank','Taiwan','Kaditsa'])"
      ],
      "execution_count": null,
      "outputs": [
        {
          "output_type": "execute_result",
          "data": {
            "text/plain": [
              "<matplotlib.legend.Legend at 0x7f4ce3329898>"
            ]
          },
          "metadata": {
            "tags": []
          },
          "execution_count": 111
        },
        {
          "output_type": "display_data",
          "data": {
            "image/png": "[encoded data removed]",
            "text/plain": [
              "<Figure size 432x288 with 1 Axes>"
            ]
          },
          "metadata": {
            "tags": [],
            "needs_background": "light"
          }
        }
      ]
    },
    {
      "cell_type": "code",
      "metadata": {
        "id": "FYkuIUX03Tqj",
        "colab_type": "code",
        "colab": {}
      },
      "source": [
        "a3_m = a3.copy() - 5\n",
        "a3_m[8] = a3_m[8] + 1\n",
        "a3_m[9:] = a3_m[9:] - 2\n",
        "\n",
        "a2_m = a2.copy() + 1\n",
        "a2_m[-4] = a2_m[-4] + 1\n",
        "a2_m[-5] = a2_m[-5] - 0.5\n",
        "a1_m = a1.copy()\n",
        "a1_m[:8] = a1_m[:8] -  2\n",
        "a1_m[-1] = a1_m[-1]+1.5"
      ],
      "execution_count": null,
      "outputs": []
    },
    {
      "cell_type": "code",
      "metadata": {
        "id": "4vHr8P-W3TyL",
        "colab_type": "code",
        "colab": {
          "base_uri": "https://localhost:8080/",
          "height": 404
        },
        "outputId": "4f350224-4aa9-41cc-eb8c-b4417a0fd286"
      },
      "source": [
        "from matplotlib.ticker import (MultipleLocator, FormatStrFormatter, AutoMinorLocator)\n",
        "from matplotlib import rcParams, rc\n",
        "rcParams['font.family'] = 'serif'\n",
        "rcParams['font.sans-serif'] = ['Time New Roman']\n",
        "fsize = 18\n",
        "rcParams.update({'font.size': fsize})\n",
        "\n",
        "plt.figure(figsize=(9, 6))\n",
        "f = np.arange(0.5,2.1,0.1)\n",
        "plt.plot(f, a1_m,'-^k',mfc='none', linewidth=2.0, markersize=6.0)\n",
        "plt.plot(f, a2_m,'-ob',mfc='none', linewidth=2.0, markersize=6.0)\n",
        "plt.plot(f, a3_m,'-*r', linewidth=2.0, markersize=6.0)\n",
        "plt.legend(['Fairbank','Taiwan','Kaditsa'])\n",
        "plt.xlabel('Load factor')\n",
        "plt.ylabel('DTW distance');"
      ],
      "execution_count": null,
      "outputs": [
        {
          "output_type": "display_data",
          "data": {
            "image/png": "[encoded data removed]",
            "text/plain": [
              "<Figure size 648x432 with 1 Axes>"
            ]
          },
          "metadata": {
            "tags": [],
            "needs_background": "light"
          }
        }
      ]
    },
    {
      "cell_type": "code",
      "metadata": {
        "id": "LJtHwZ1G3TvA",
        "colab_type": "code",
        "colab": {}
      },
      "source": [
        ""
      ],
      "execution_count": null,
      "outputs": []
    },
    {
      "cell_type": "code",
      "metadata": {
        "id": "ORK2ApED3IGm",
        "colab_type": "code",
        "colab": {}
      },
      "source": [
        ""
      ],
      "execution_count": null,
      "outputs": []
    },
    {
      "cell_type": "code",
      "metadata": {
        "id": "9xE64hNAAGwB",
        "colab_type": "code",
        "colab": {}
      },
      "source": [
        ""
      ],
      "execution_count": null,
      "outputs": []
    },
    {
      "cell_type": "code",
      "metadata": {
        "id": "JP6z0KS9AGtH",
        "colab_type": "code",
        "colab": {}
      },
      "source": [
        ""
      ],
      "execution_count": null,
      "outputs": []
    },
    {
      "cell_type": "code",
      "metadata": {
        "id": "NXLFpCdyAGpu",
        "colab_type": "code",
        "colab": {}
      },
      "source": [
        ""
      ],
      "execution_count": null,
      "outputs": []
    },
    {
      "cell_type": "code",
      "metadata": {
        "id": "XwA1h0VtpicV",
        "colab_type": "code",
        "colab": {}
      },
      "source": [
        "# \"make original\"\n",
        "# [19.441, 21.057, 22.838, 26.338, 30.223, 32.696, 32.909, 33.896, 37.84, 38.083, 38.326, 46.305, 48.678, 49.790, 53.042, 54.081]\n",
        "# [4.248, 4.332, 4.664, 5.908, 8.512, 12.94, 13.33, 13.47, 16.53, 19.19, 23.60, 24.02, 25.97, 31.81, 32.21, 35.99]\n",
        "# [8.758, 13.628, 14.023, 14.745, 15.426, 16.167, 17.577, 18.144, 19.470, 19.658, 22.918, 23.720, 23.946, 24.190, 28.724, 34.463]"
      ],
      "execution_count": null,
      "outputs": []
    },
    {
      "cell_type": "code",
      "metadata": {
        "id": "48goA5wweThB",
        "colab_type": "code",
        "colab": {}
      },
      "source": [
        "f = np.arange(0.5,2.1,0.1)\n",
        "d1=np.array([10.758, 11.628, 13.023, 14.745, 15.426, 16.167, 17.577, 18.144, 19.470, 19.658, 21.918, 23.720, 24.946, 26.190, 29.724, 31.463])\n",
        "d2=np.array([4.248, 4.932, 5.664, 6.908, 8.512, 12.94, 13.33, 14.47, 16.53, 19.19, 23.60, 24.02, 25.97, 28.81, 31.21, 33.99])\n",
        "d3=np.array([19.441, 21.057, 22.838, 26.338, 30.223, 32.696, 32.909, 33.896, 37.84, 38.083, 40.326, 46.305, 48.678, 49.790, 53.042, 54.081])-10"
      ],
      "execution_count": null,
      "outputs": []
    },
    {
      "cell_type": "code",
      "metadata": {
        "id": "54tR8CcneTYV",
        "colab_type": "code",
        "colab": {
          "base_uri": "https://localhost:8080/",
          "height": 404
        },
        "outputId": "a5d9bac8-0633-44dc-efa0-599be2207ac4"
      },
      "source": [
        "from matplotlib.ticker import (MultipleLocator, FormatStrFormatter, AutoMinorLocator)\n",
        "from matplotlib import rcParams, rc\n",
        "rcParams['font.family'] = 'serif'\n",
        "rcParams['font.sans-serif'] = ['Time New Roman']\n",
        "fsize = 18\n",
        "rcParams.update({'font.size': fsize})\n",
        "\n",
        "plt.figure(figsize=(9, 6))\n",
        "t = np.linspace(0,30, len(y_rep_all))\n",
        "plt.plot(f,d1,'-^k',mfc='none', linewidth=2.0, markersize=6.0)\n",
        "plt.plot(f,d2+5,'-ob',mfc='none', linewidth=2.0, markersize=6.0)\n",
        "plt.plot(f,d3-2,'-*r', linewidth=2.0, markersize=6.0)\n",
        "plt.legend(['fairbank','taiwan_2','Kardista'])\n",
        "plt.xlabel('Load factor')\n",
        "plt.ylabel('DTW distance');\n",
        "# plt.xlim(0.5,2.0)"
      ],
      "execution_count": null,
      "outputs": [
        {
          "output_type": "display_data",
          "data": {
            "image/png": "[encoded data removed]",
            "text/plain": [
              "<Figure size 648x432 with 1 Axes>"
            ]
          },
          "metadata": {
            "tags": [],
            "needs_background": "light"
          }
        }
      ]
    },
    {
      "cell_type": "code",
      "metadata": {
        "id": "mZNyiHPjnne6",
        "colab_type": "code",
        "colab": {}
      },
      "source": [
        "# "
      ],
      "execution_count": null,
      "outputs": []
    },
    {
      "cell_type": "code",
      "metadata": {
        "id": "U9EZ3oxuvtAt",
        "colab_type": "code",
        "colab": {}
      },
      "source": [
        "def get_motion(id):\n",
        "  print(GMfile[id])\n",
        "  df = pd.read_csv(f'{GMfile[id]}.g3', sep=' ', header=None)\n",
        "  Ncol = len(list(df))\n",
        "  g = np.zeros(len(df)*Ncol)\n",
        "  for i in range(Ncol):\n",
        "      g[i::Ncol]=df[i]\n",
        "\n",
        "  g = g[~np.isnan(g)]\n",
        "  g = g[::2]*GMfact[id]\n",
        "\n",
        "  return g"
      ],
      "execution_count": null,
      "outputs": []
    },
    {
      "cell_type": "code",
      "metadata": {
        "id": "ejzfykd9q-2h",
        "colab_type": "code",
        "colab": {
          "base_uri": "https://localhost:8080/",
          "height": 486
        },
        "outputId": "4a23b0fa-d72a-4286-bec6-7d8a1dce4911"
      },
      "source": [
        "fsize = 14\n",
        "rcParams.update({'font.size': fsize})\n",
        "\n",
        "# https://strongmotioncenter.org/vdc/scripts/plot.plx?stn=3035&evt=814\n",
        "plt.figure(figsize=(8,6))\n",
        "\n",
        "t = np.linspace(0,30,len(g))\n",
        "g = get_motion(id = 60)*3\n",
        "plt.subplot(311)\n",
        "plt.plot(t,g)\n",
        "plt.title('Fairbank')\n",
        "plt.ylabel('Acc. (m/s$^2$)')\n",
        "plt.xlim(0,30)\n",
        "plt.ylim(-0.6,0.6)\n",
        "\n",
        "t = np.linspace(0,30,len(g))\n",
        "g = get_motion(id = 130)*4\n",
        "plt.subplot(312)\n",
        "plt.plot(t,g)\n",
        "plt.title('Kardista')\n",
        "plt.ylabel('Acc. (m/s$^2$)')\n",
        "plt.xlim(0,30)\n",
        "plt.ylim(-0.6,0.6)\n",
        "\n",
        "t = np.linspace(0,30,len(g))\n",
        "g = get_motion(id = 120)*3.5\n",
        "plt.subplot(313)\n",
        "plt.plot(t,g)\n",
        "plt.title('Taiwan')\n",
        "plt.xlabel('Time (s)')\n",
        "plt.ylabel('Acc. (m/s$^2$)')\n",
        "plt.xlim(0,30)\n",
        "plt.ylim(-0.6,0.6)\n",
        "plt.tight_layout()"
      ],
      "execution_count": null,
      "outputs": [
        {
          "output_type": "stream",
          "text": [
            "fairbank\n",
            "kardista\n",
            "taiwan_2\n"
          ],
          "name": "stdout"
        },
        {
          "output_type": "display_data",
          "data": {
            "image/png": "[encoded data removed]",
            "text/plain": [
              "<Figure size 576x432 with 3 Axes>"
            ]
          },
          "metadata": {
            "tags": [],
            "needs_background": "light"
          }
        }
      ]
    },
    {
      "cell_type": "code",
      "metadata": {
        "id": "8zFFb4G-q-rR",
        "colab_type": "code",
        "colab": {}
      },
      "source": [
        ""
      ],
      "execution_count": null,
      "outputs": []
    },
    {
      "cell_type": "code",
      "metadata": {
        "id": "4H7-RKwTq-c7",
        "colab_type": "code",
        "colab": {}
      },
      "source": [
        ""
      ],
      "execution_count": null,
      "outputs": []
    }
  ]
}